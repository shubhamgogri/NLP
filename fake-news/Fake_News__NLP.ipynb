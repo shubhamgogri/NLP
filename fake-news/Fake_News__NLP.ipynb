{
  "nbformat": 4,
  "nbformat_minor": 0,
  "metadata": {
    "colab": {
      "provenance": [],
      "collapsed_sections": [
        "_hiGaFjlvGGf",
        "zb4Px3MOwCk6",
        "qjHgVJT9Qowu",
        "yUXvz3jeVAQ7",
        "lG8PKHuNVjdJ",
        "7vqJYdAADj5k"
      ],
      "authorship_tag": "ABX9TyM/2fkq95+37rgLufu7RWbl",
      "include_colab_link": true
    },
    "kernelspec": {
      "name": "python3",
      "display_name": "Python 3"
    },
    "language_info": {
      "name": "python"
    }
  },
  "cells": [
    {
      "cell_type": "markdown",
      "metadata": {
        "id": "view-in-github",
        "colab_type": "text"
      },
      "source": [
        "<a href=\"https://colab.research.google.com/github/shubhamgogri/NLP/blob/main/NLP/fake-news/Fake_News__NLP.ipynb\" target=\"_parent\"><img src=\"https://colab.research.google.com/assets/colab-badge.svg\" alt=\"Open In Colab\"/></a>"
      ]
    },
    {
      "cell_type": "markdown",
      "source": [
        "The Notebook contains implementation of word embedding technique initally on the sample dataset. \n",
        "\n",
        "Word Embedding process helps in vectorization of words to provide semantics and and generalizing the similar words in a corpus of text. \n",
        "\n",
        "The words are featureised on multiple dimensions to provide the similarity between all the possible words.\n"
      ],
      "metadata": {
        "id": "wERpJ0JUqKsq"
      }
    },
    {
      "cell_type": "markdown",
      "source": [
        "Any NLP word related problem statement ha to go through a series of data cleaning process which are specified in below sections."
      ],
      "metadata": {
        "id": "x4sRrOJsrNVi"
      }
    },
    {
      "cell_type": "markdown",
      "source": [
        "### Word Embedding"
      ],
      "metadata": {
        "id": "rcidyQ-_hs-3"
      }
    },
    {
      "cell_type": "code",
      "source": [
        "import tensorflow as tf"
      ],
      "metadata": {
        "id": "l0NW1-mqYeHs"
      },
      "execution_count": null,
      "outputs": []
    },
    {
      "cell_type": "markdown",
      "source": [
        "As a part of preprocessing of words so as to use them for embedding they are converted into the one hot encodes..\n",
        "\n",
        "One Hot encoding is done on the data set of words. \n",
        "Where the words are given an index between a specified vocab_size    "
      ],
      "metadata": {
        "id": "lLRi2Wz1rckh"
      }
    },
    {
      "cell_type": "code",
      "source": [
        "from keras.preprocessing.text import one_hot  "
      ],
      "metadata": {
        "id": "UQe1lGh2YeES"
      },
      "execution_count": null,
      "outputs": []
    },
    {
      "cell_type": "code",
      "source": [
        "sentences = [ 'the glass of milk',\n",
        "     'the glass of juice',\n",
        "     'the cup of tea',\n",
        "    'I am a good boy',\n",
        "     'I am a good developer',\n",
        "     'understand the meaning of words',\n",
        "     'your videos are good']"
      ],
      "metadata": {
        "id": "0lEuvhDbYeA1"
      },
      "execution_count": null,
      "outputs": []
    },
    {
      "cell_type": "code",
      "source": [
        "# vocabulary size\n",
        "vocab_size = 1000"
      ],
      "metadata": {
        "id": "CkJKo7igYd9B"
      },
      "execution_count": null,
      "outputs": []
    },
    {
      "cell_type": "code",
      "execution_count": null,
      "metadata": {
        "id": "LnvwLXc3X1WI"
      },
      "outputs": [],
      "source": [
        "one_hot_rep = [one_hot(word, vocab_size) for word in sentences]"
      ]
    },
    {
      "cell_type": "code",
      "source": [
        "one_hot_rep"
      ],
      "metadata": {
        "colab": {
          "base_uri": "https://localhost:8080/"
        },
        "id": "4OGuNS6bZq_Y",
        "outputId": "9258e49a-be6c-4357-e21a-44e64b81d016"
      },
      "execution_count": null,
      "outputs": [
        {
          "output_type": "execute_result",
          "data": {
            "text/plain": [
              "[[841, 943, 213, 433],\n",
              " [841, 943, 213, 410],\n",
              " [841, 976, 213, 189],\n",
              " [50, 625, 944, 162, 222],\n",
              " [50, 625, 944, 162, 648],\n",
              " [157, 841, 129, 213, 614],\n",
              " [943, 629, 229, 162]]"
            ]
          },
          "metadata": {},
          "execution_count": 10
        }
      ]
    },
    {
      "cell_type": "markdown",
      "source": [
        "here the vocab size is 1000. Hence the values of index are below 1000.\n"
      ],
      "metadata": {
        "id": "QUNWNtm5Zwkl"
      }
    },
    {
      "cell_type": "markdown",
      "source": [
        "Also here the 1st two sentences are similar except for the last word which is represented correctly.\n"
      ],
      "metadata": {
        "id": "MWsIU6ZDZ6iy"
      }
    },
    {
      "cell_type": "markdown",
      "source": [
        "Words Embedding\n"
      ],
      "metadata": {
        "id": "k1MBCN59aRuN"
      }
    },
    {
      "cell_type": "code",
      "source": [
        "!pip install keras"
      ],
      "metadata": {
        "colab": {
          "base_uri": "https://localhost:8080/"
        },
        "id": "eCtXxQEabN6r",
        "outputId": "46070390-98c8-42b8-f9a6-a34332d8604c"
      },
      "execution_count": null,
      "outputs": [
        {
          "output_type": "stream",
          "name": "stdout",
          "text": [
            "Looking in indexes: https://pypi.org/simple, https://us-python.pkg.dev/colab-wheels/public/simple/\n",
            "Requirement already satisfied: keras in /usr/local/lib/python3.8/dist-packages (2.9.0)\n"
          ]
        }
      ]
    },
    {
      "cell_type": "code",
      "source": [
        "from keras.layers import Embedding\n",
        "from keras.utils import pad_sequences\n",
        "from keras.models import Sequential "
      ],
      "metadata": {
        "id": "AZEsaMT4ZsVY"
      },
      "execution_count": null,
      "outputs": []
    },
    {
      "cell_type": "code",
      "source": [
        "import numpy as np"
      ],
      "metadata": {
        "id": "aH8WV_-zbI06"
      },
      "execution_count": null,
      "outputs": []
    },
    {
      "cell_type": "markdown",
      "source": [
        "Here the sentences are padded to as to achieve a uniform size of matrix. the size can be change as per the need using maxlen parameter. \n",
        "\n",
        "While the pre padding is implemented to add the zeros infront of the seq. \n",
        "\n",
        "The given example consists of post padding example. "
      ],
      "metadata": {
        "id": "nV4J0KfssFap"
      }
    },
    {
      "cell_type": "code",
      "source": [
        "sent_length = 8\n",
        "padded_sent = pad_sequences(one_hot_rep, padding = 'post', maxlen = sent_length)"
      ],
      "metadata": {
        "id": "kApRBkL4b1aS"
      },
      "execution_count": null,
      "outputs": []
    },
    {
      "cell_type": "code",
      "source": [
        "padded_sent"
      ],
      "metadata": {
        "colab": {
          "base_uri": "https://localhost:8080/"
        },
        "id": "Shao_s1bcazY",
        "outputId": "450d5a6d-8c37-4d72-fef2-db9aebd1fd95"
      },
      "execution_count": null,
      "outputs": [
        {
          "output_type": "execute_result",
          "data": {
            "text/plain": [
              "array([[841, 943, 213, 433,   0,   0,   0,   0],\n",
              "       [841, 943, 213, 410,   0,   0,   0,   0],\n",
              "       [841, 976, 213, 189,   0,   0,   0,   0],\n",
              "       [ 50, 625, 944, 162, 222,   0,   0,   0],\n",
              "       [ 50, 625, 944, 162, 648,   0,   0,   0],\n",
              "       [157, 841, 129, 213, 614,   0,   0,   0],\n",
              "       [943, 629, 229, 162,   0,   0,   0,   0]], dtype=int32)"
            ]
          },
          "metadata": {},
          "execution_count": 19
        }
      ]
    },
    {
      "cell_type": "markdown",
      "source": [
        "the feature dimensions are the number of features the word are considered for vectorizing purposes. "
      ],
      "metadata": {
        "id": "n0vZM8hTsnCN"
      }
    },
    {
      "cell_type": "code",
      "source": [
        "feature_dimension = 15"
      ],
      "metadata": {
        "id": "BQsKkQ-Accfd"
      },
      "execution_count": null,
      "outputs": []
    },
    {
      "cell_type": "code",
      "source": [
        "model = Sequential()\n",
        "model.add(Embedding(input_dim = vocab_size , output_dim = feature_dimension, input_length= sent_length  ))\n",
        "model.compile(optimizer='adam', loss = 'mse')"
      ],
      "metadata": {
        "id": "BkhvH3kQciGT"
      },
      "execution_count": null,
      "outputs": []
    },
    {
      "cell_type": "code",
      "source": [
        "model.summary()"
      ],
      "metadata": {
        "colab": {
          "base_uri": "https://localhost:8080/"
        },
        "id": "SHu1i-CSeVhd",
        "outputId": "635abfdb-4c1b-4c9c-d875-f84ac854f76b"
      },
      "execution_count": null,
      "outputs": [
        {
          "output_type": "stream",
          "name": "stdout",
          "text": [
            "Model: \"sequential_1\"\n",
            "_________________________________________________________________\n",
            " Layer (type)                Output Shape              Param #   \n",
            "=================================================================\n",
            " embedding (Embedding)       (None, 8, 15)             15000     \n",
            "                                                                 \n",
            "=================================================================\n",
            "Total params: 15,000\n",
            "Trainable params: 15,000\n",
            "Non-trainable params: 0\n",
            "_________________________________________________________________\n"
          ]
        }
      ]
    },
    {
      "cell_type": "code",
      "source": [
        "print(model.predict(padded_sent[0]))"
      ],
      "metadata": {
        "colab": {
          "base_uri": "https://localhost:8080/"
        },
        "id": "Vscb9hM_erVF",
        "outputId": "ec59a276-49d1-46c8-f5f1-34cb3ce28c9d"
      },
      "execution_count": null,
      "outputs": [
        {
          "output_type": "stream",
          "name": "stdout",
          "text": [
            "1/1 [==============================] - 0s 35ms/step\n",
            "[[-0.00774602 -0.04423456  0.04890832  0.00293677 -0.02920479  0.04076333\n",
            "   0.02717837 -0.01591363  0.00399208 -0.03127141 -0.04926279  0.04015915\n",
            "  -0.04149141 -0.01014014  0.01268082]\n",
            " [-0.04983408 -0.02761301  0.02025219  0.01626383  0.01576941 -0.01976505\n",
            "   0.00820578  0.00838715  0.01462192  0.02909298  0.02779548 -0.00296633\n",
            "   0.00494424  0.03845323 -0.0450703 ]\n",
            " [ 0.03988791  0.03748988 -0.04223348 -0.02717389 -0.0354002  -0.03328349\n",
            "   0.04939703  0.02107665  0.04616718 -0.0135191  -0.01834368  0.02580414\n",
            "  -0.01154597 -0.0134268  -0.0178185 ]\n",
            " [ 0.00330168 -0.00040371 -0.03372315 -0.04649345  0.03920429  0.01662189\n",
            "  -0.00714932 -0.02719831 -0.01580529 -0.04340274 -0.03580936 -0.01770597\n",
            "   0.0389457   0.02445852  0.0302797 ]\n",
            " [-0.04139549 -0.00578694  0.013465    0.00706507 -0.01460936 -0.03691373\n",
            "  -0.01449144 -0.01320434  0.04709592 -0.04622306 -0.03572468  0.0344383\n",
            "  -0.04307815 -0.00973438  0.01322757]\n",
            " [-0.04139549 -0.00578694  0.013465    0.00706507 -0.01460936 -0.03691373\n",
            "  -0.01449144 -0.01320434  0.04709592 -0.04622306 -0.03572468  0.0344383\n",
            "  -0.04307815 -0.00973438  0.01322757]\n",
            " [-0.04139549 -0.00578694  0.013465    0.00706507 -0.01460936 -0.03691373\n",
            "  -0.01449144 -0.01320434  0.04709592 -0.04622306 -0.03572468  0.0344383\n",
            "  -0.04307815 -0.00973438  0.01322757]\n",
            " [-0.04139549 -0.00578694  0.013465    0.00706507 -0.01460936 -0.03691373\n",
            "  -0.01449144 -0.01320434  0.04709592 -0.04622306 -0.03572468  0.0344383\n",
            "  -0.04307815 -0.00973438  0.01322757]]\n"
          ]
        }
      ]
    },
    {
      "cell_type": "markdown",
      "source": [
        "Here the values in vocab are converted into the 15 dimension vector. \n",
        " "
      ],
      "metadata": {
        "id": "G8tVW6ZJfAlK"
      }
    },
    {
      "cell_type": "markdown",
      "source": [
        "Once that the basic implementation of the Word embedding is completed Lets look and implement it on the real dataset where the classification of news is req based on their authencity."
      ],
      "metadata": {
        "id": "xnwdt3Vbs3eD"
      }
    },
    {
      "cell_type": "markdown",
      "source": [
        "### Fake News Classifier"
      ],
      "metadata": {
        "id": "xI_f7y8whzAi"
      }
    },
    {
      "cell_type": "markdown",
      "source": [
        "The Fake news Classifier dateset is present on the kaggle. But can access them using the link in the github. \n",
        "  "
      ],
      "metadata": {
        "id": "irodf8ONtQcQ"
      }
    },
    {
      "cell_type": "markdown",
      "source": [
        "The dataset will be used to compare the two different techniques namely LSTM (RNN) and the MultiNominalNB (Naive bayes theorem).\n",
        "\n",
        "Basically between Machine Learning Vs Deep Learning techniques "
      ],
      "metadata": {
        "id": "Jjuv_pMithsK"
      }
    },
    {
      "cell_type": "markdown",
      "source": [
        "Steps followed are:\n",
        "\n",
        "1st the Deep Learning LSTM model is trained on the dataset\n",
        "1. get the data.\n",
        "2. preprocessing the words\n",
        "3. One hot representation\n",
        "4. word embedding in the model. \n",
        "5. model predictions and results\n",
        "\n",
        "\n",
        "\n"
      ],
      "metadata": {
        "id": "sjrNXQIjuM87"
      }
    },
    {
      "cell_type": "markdown",
      "source": [
        "### Get the data"
      ],
      "metadata": {
        "id": "_hiGaFjlvGGf"
      }
    },
    {
      "cell_type": "code",
      "source": [
        "import pandas as pd"
      ],
      "metadata": {
        "id": "RpnHwfHJe4D7"
      },
      "execution_count": null,
      "outputs": []
    },
    {
      "cell_type": "code",
      "source": [
        "data = pd.read_csv('https://raw.githubusercontent.com/shubhamgogri/NLP/main/fake-news/train.csv')"
      ],
      "metadata": {
        "id": "2ZdzSkkChyAC"
      },
      "execution_count": null,
      "outputs": []
    },
    {
      "cell_type": "code",
      "source": [
        "data.head()"
      ],
      "metadata": {
        "colab": {
          "base_uri": "https://localhost:8080/",
          "height": 206
        },
        "id": "jygz6OoDmYt_",
        "outputId": "41b9dc18-08a9-474c-bc32-1b73e662e995"
      },
      "execution_count": null,
      "outputs": [
        {
          "output_type": "execute_result",
          "data": {
            "text/plain": [
              "   id                                              title              author  \\\n",
              "0   0  House Dem Aide: We Didn’t Even See Comey’s Let...       Darrell Lucus   \n",
              "1   1  FLYNN: Hillary Clinton, Big Woman on Campus - ...     Daniel J. Flynn   \n",
              "2   2                  Why the Truth Might Get You Fired  Consortiumnews.com   \n",
              "3   3  15 Civilians Killed In Single US Airstrike Hav...     Jessica Purkiss   \n",
              "4   4  Iranian woman jailed for fictional unpublished...      Howard Portnoy   \n",
              "\n",
              "                                                text  label  \n",
              "0  House Dem Aide: We Didn’t Even See Comey’s Let...      1  \n",
              "1  Ever get the feeling your life circles the rou...      0  \n",
              "2  Why the Truth Might Get You Fired October 29, ...      1  \n",
              "3  Videos 15 Civilians Killed In Single US Airstr...      1  \n",
              "4  Print \\nAn Iranian woman has been sentenced to...      1  "
            ],
            "text/html": [
              "\n",
              "  <div id=\"df-58fb85bd-87b6-4916-81dc-351e98743a6d\">\n",
              "    <div class=\"colab-df-container\">\n",
              "      <div>\n",
              "<style scoped>\n",
              "    .dataframe tbody tr th:only-of-type {\n",
              "        vertical-align: middle;\n",
              "    }\n",
              "\n",
              "    .dataframe tbody tr th {\n",
              "        vertical-align: top;\n",
              "    }\n",
              "\n",
              "    .dataframe thead th {\n",
              "        text-align: right;\n",
              "    }\n",
              "</style>\n",
              "<table border=\"1\" class=\"dataframe\">\n",
              "  <thead>\n",
              "    <tr style=\"text-align: right;\">\n",
              "      <th></th>\n",
              "      <th>id</th>\n",
              "      <th>title</th>\n",
              "      <th>author</th>\n",
              "      <th>text</th>\n",
              "      <th>label</th>\n",
              "    </tr>\n",
              "  </thead>\n",
              "  <tbody>\n",
              "    <tr>\n",
              "      <th>0</th>\n",
              "      <td>0</td>\n",
              "      <td>House Dem Aide: We Didn’t Even See Comey’s Let...</td>\n",
              "      <td>Darrell Lucus</td>\n",
              "      <td>House Dem Aide: We Didn’t Even See Comey’s Let...</td>\n",
              "      <td>1</td>\n",
              "    </tr>\n",
              "    <tr>\n",
              "      <th>1</th>\n",
              "      <td>1</td>\n",
              "      <td>FLYNN: Hillary Clinton, Big Woman on Campus - ...</td>\n",
              "      <td>Daniel J. Flynn</td>\n",
              "      <td>Ever get the feeling your life circles the rou...</td>\n",
              "      <td>0</td>\n",
              "    </tr>\n",
              "    <tr>\n",
              "      <th>2</th>\n",
              "      <td>2</td>\n",
              "      <td>Why the Truth Might Get You Fired</td>\n",
              "      <td>Consortiumnews.com</td>\n",
              "      <td>Why the Truth Might Get You Fired October 29, ...</td>\n",
              "      <td>1</td>\n",
              "    </tr>\n",
              "    <tr>\n",
              "      <th>3</th>\n",
              "      <td>3</td>\n",
              "      <td>15 Civilians Killed In Single US Airstrike Hav...</td>\n",
              "      <td>Jessica Purkiss</td>\n",
              "      <td>Videos 15 Civilians Killed In Single US Airstr...</td>\n",
              "      <td>1</td>\n",
              "    </tr>\n",
              "    <tr>\n",
              "      <th>4</th>\n",
              "      <td>4</td>\n",
              "      <td>Iranian woman jailed for fictional unpublished...</td>\n",
              "      <td>Howard Portnoy</td>\n",
              "      <td>Print \\nAn Iranian woman has been sentenced to...</td>\n",
              "      <td>1</td>\n",
              "    </tr>\n",
              "  </tbody>\n",
              "</table>\n",
              "</div>\n",
              "      <button class=\"colab-df-convert\" onclick=\"convertToInteractive('df-58fb85bd-87b6-4916-81dc-351e98743a6d')\"\n",
              "              title=\"Convert this dataframe to an interactive table.\"\n",
              "              style=\"display:none;\">\n",
              "        \n",
              "  <svg xmlns=\"http://www.w3.org/2000/svg\" height=\"24px\"viewBox=\"0 0 24 24\"\n",
              "       width=\"24px\">\n",
              "    <path d=\"M0 0h24v24H0V0z\" fill=\"none\"/>\n",
              "    <path d=\"M18.56 5.44l.94 2.06.94-2.06 2.06-.94-2.06-.94-.94-2.06-.94 2.06-2.06.94zm-11 1L8.5 8.5l.94-2.06 2.06-.94-2.06-.94L8.5 2.5l-.94 2.06-2.06.94zm10 10l.94 2.06.94-2.06 2.06-.94-2.06-.94-.94-2.06-.94 2.06-2.06.94z\"/><path d=\"M17.41 7.96l-1.37-1.37c-.4-.4-.92-.59-1.43-.59-.52 0-1.04.2-1.43.59L10.3 9.45l-7.72 7.72c-.78.78-.78 2.05 0 2.83L4 21.41c.39.39.9.59 1.41.59.51 0 1.02-.2 1.41-.59l7.78-7.78 2.81-2.81c.8-.78.8-2.07 0-2.86zM5.41 20L4 18.59l7.72-7.72 1.47 1.35L5.41 20z\"/>\n",
              "  </svg>\n",
              "      </button>\n",
              "      \n",
              "  <style>\n",
              "    .colab-df-container {\n",
              "      display:flex;\n",
              "      flex-wrap:wrap;\n",
              "      gap: 12px;\n",
              "    }\n",
              "\n",
              "    .colab-df-convert {\n",
              "      background-color: #E8F0FE;\n",
              "      border: none;\n",
              "      border-radius: 50%;\n",
              "      cursor: pointer;\n",
              "      display: none;\n",
              "      fill: #1967D2;\n",
              "      height: 32px;\n",
              "      padding: 0 0 0 0;\n",
              "      width: 32px;\n",
              "    }\n",
              "\n",
              "    .colab-df-convert:hover {\n",
              "      background-color: #E2EBFA;\n",
              "      box-shadow: 0px 1px 2px rgba(60, 64, 67, 0.3), 0px 1px 3px 1px rgba(60, 64, 67, 0.15);\n",
              "      fill: #174EA6;\n",
              "    }\n",
              "\n",
              "    [theme=dark] .colab-df-convert {\n",
              "      background-color: #3B4455;\n",
              "      fill: #D2E3FC;\n",
              "    }\n",
              "\n",
              "    [theme=dark] .colab-df-convert:hover {\n",
              "      background-color: #434B5C;\n",
              "      box-shadow: 0px 1px 3px 1px rgba(0, 0, 0, 0.15);\n",
              "      filter: drop-shadow(0px 1px 2px rgba(0, 0, 0, 0.3));\n",
              "      fill: #FFFFFF;\n",
              "    }\n",
              "  </style>\n",
              "\n",
              "      <script>\n",
              "        const buttonEl =\n",
              "          document.querySelector('#df-58fb85bd-87b6-4916-81dc-351e98743a6d button.colab-df-convert');\n",
              "        buttonEl.style.display =\n",
              "          google.colab.kernel.accessAllowed ? 'block' : 'none';\n",
              "\n",
              "        async function convertToInteractive(key) {\n",
              "          const element = document.querySelector('#df-58fb85bd-87b6-4916-81dc-351e98743a6d');\n",
              "          const dataTable =\n",
              "            await google.colab.kernel.invokeFunction('convertToInteractive',\n",
              "                                                     [key], {});\n",
              "          if (!dataTable) return;\n",
              "\n",
              "          const docLinkHtml = 'Like what you see? Visit the ' +\n",
              "            '<a target=\"_blank\" href=https://colab.research.google.com/notebooks/data_table.ipynb>data table notebook</a>'\n",
              "            + ' to learn more about interactive tables.';\n",
              "          element.innerHTML = '';\n",
              "          dataTable['output_type'] = 'display_data';\n",
              "          await google.colab.output.renderOutput(dataTable, element);\n",
              "          const docLink = document.createElement('div');\n",
              "          docLink.innerHTML = docLinkHtml;\n",
              "          element.appendChild(docLink);\n",
              "        }\n",
              "      </script>\n",
              "    </div>\n",
              "  </div>\n",
              "  "
            ]
          },
          "metadata": {},
          "execution_count": 4
        }
      ]
    },
    {
      "cell_type": "markdown",
      "source": [
        "the dataset contains 4 independent features while 1 dependent/ target feature.\n",
        "\n",
        "Out of the 4 independent features id is quite irrelevant.\n",
        "\n",
        "Also for the sake just getting familiarized with the techniques only the title is considered to train the model."
      ],
      "metadata": {
        "id": "UzU02ovevPDM"
      }
    },
    {
      "cell_type": "code",
      "source": [
        "data.info()"
      ],
      "metadata": {
        "colab": {
          "base_uri": "https://localhost:8080/"
        },
        "id": "YhscxIRuoWS9",
        "outputId": "a37c67e1-b121-4a19-cc61-5ce2c3265064"
      },
      "execution_count": null,
      "outputs": [
        {
          "output_type": "stream",
          "name": "stdout",
          "text": [
            "<class 'pandas.core.frame.DataFrame'>\n",
            "RangeIndex: 20800 entries, 0 to 20799\n",
            "Data columns (total 5 columns):\n",
            " #   Column  Non-Null Count  Dtype \n",
            "---  ------  --------------  ----- \n",
            " 0   id      20800 non-null  int64 \n",
            " 1   title   20242 non-null  object\n",
            " 2   author  18843 non-null  object\n",
            " 3   text    20761 non-null  object\n",
            " 4   label   20800 non-null  int64 \n",
            "dtypes: int64(2), object(3)\n",
            "memory usage: 812.6+ KB\n"
          ]
        }
      ]
    },
    {
      "cell_type": "markdown",
      "source": [
        "the null values are discarded"
      ],
      "metadata": {
        "id": "WbAiCj6NvK1o"
      }
    },
    {
      "cell_type": "code",
      "source": [
        "data.dropna(inplace = True)"
      ],
      "metadata": {
        "id": "1o_gmXyOoqgJ"
      },
      "execution_count": null,
      "outputs": []
    },
    {
      "cell_type": "code",
      "source": [
        "data.info()"
      ],
      "metadata": {
        "id": "XNLgfBXco4L7",
        "colab": {
          "base_uri": "https://localhost:8080/"
        },
        "outputId": "604ba689-3dbc-4f3d-f1ee-81133e6b4787"
      },
      "execution_count": null,
      "outputs": [
        {
          "output_type": "stream",
          "name": "stdout",
          "text": [
            "<class 'pandas.core.frame.DataFrame'>\n",
            "Int64Index: 18285 entries, 0 to 20799\n",
            "Data columns (total 5 columns):\n",
            " #   Column  Non-Null Count  Dtype \n",
            "---  ------  --------------  ----- \n",
            " 0   id      18285 non-null  int64 \n",
            " 1   title   18285 non-null  object\n",
            " 2   author  18285 non-null  object\n",
            " 3   text    18285 non-null  object\n",
            " 4   label   18285 non-null  int64 \n",
            "dtypes: int64(2), object(3)\n",
            "memory usage: 857.1+ KB\n"
          ]
        }
      ]
    },
    {
      "cell_type": "code",
      "source": [
        "data.head()"
      ],
      "metadata": {
        "colab": {
          "base_uri": "https://localhost:8080/",
          "height": 206
        },
        "id": "nM51aBB9MkmT",
        "outputId": "f57d43e1-2603-4331-c393-055864910581"
      },
      "execution_count": null,
      "outputs": [
        {
          "output_type": "execute_result",
          "data": {
            "text/plain": [
              "   id                                              title              author  \\\n",
              "0   0  House Dem Aide: We Didn’t Even See Comey’s Let...       Darrell Lucus   \n",
              "1   1  FLYNN: Hillary Clinton, Big Woman on Campus - ...     Daniel J. Flynn   \n",
              "2   2                  Why the Truth Might Get You Fired  Consortiumnews.com   \n",
              "3   3  15 Civilians Killed In Single US Airstrike Hav...     Jessica Purkiss   \n",
              "4   4  Iranian woman jailed for fictional unpublished...      Howard Portnoy   \n",
              "\n",
              "                                                text  label  \n",
              "0  House Dem Aide: We Didn’t Even See Comey’s Let...      1  \n",
              "1  Ever get the feeling your life circles the rou...      0  \n",
              "2  Why the Truth Might Get You Fired October 29, ...      1  \n",
              "3  Videos 15 Civilians Killed In Single US Airstr...      1  \n",
              "4  Print \\nAn Iranian woman has been sentenced to...      1  "
            ],
            "text/html": [
              "\n",
              "  <div id=\"df-c21609e0-dd62-4107-aaae-b305e5ca7db8\">\n",
              "    <div class=\"colab-df-container\">\n",
              "      <div>\n",
              "<style scoped>\n",
              "    .dataframe tbody tr th:only-of-type {\n",
              "        vertical-align: middle;\n",
              "    }\n",
              "\n",
              "    .dataframe tbody tr th {\n",
              "        vertical-align: top;\n",
              "    }\n",
              "\n",
              "    .dataframe thead th {\n",
              "        text-align: right;\n",
              "    }\n",
              "</style>\n",
              "<table border=\"1\" class=\"dataframe\">\n",
              "  <thead>\n",
              "    <tr style=\"text-align: right;\">\n",
              "      <th></th>\n",
              "      <th>id</th>\n",
              "      <th>title</th>\n",
              "      <th>author</th>\n",
              "      <th>text</th>\n",
              "      <th>label</th>\n",
              "    </tr>\n",
              "  </thead>\n",
              "  <tbody>\n",
              "    <tr>\n",
              "      <th>0</th>\n",
              "      <td>0</td>\n",
              "      <td>House Dem Aide: We Didn’t Even See Comey’s Let...</td>\n",
              "      <td>Darrell Lucus</td>\n",
              "      <td>House Dem Aide: We Didn’t Even See Comey’s Let...</td>\n",
              "      <td>1</td>\n",
              "    </tr>\n",
              "    <tr>\n",
              "      <th>1</th>\n",
              "      <td>1</td>\n",
              "      <td>FLYNN: Hillary Clinton, Big Woman on Campus - ...</td>\n",
              "      <td>Daniel J. Flynn</td>\n",
              "      <td>Ever get the feeling your life circles the rou...</td>\n",
              "      <td>0</td>\n",
              "    </tr>\n",
              "    <tr>\n",
              "      <th>2</th>\n",
              "      <td>2</td>\n",
              "      <td>Why the Truth Might Get You Fired</td>\n",
              "      <td>Consortiumnews.com</td>\n",
              "      <td>Why the Truth Might Get You Fired October 29, ...</td>\n",
              "      <td>1</td>\n",
              "    </tr>\n",
              "    <tr>\n",
              "      <th>3</th>\n",
              "      <td>3</td>\n",
              "      <td>15 Civilians Killed In Single US Airstrike Hav...</td>\n",
              "      <td>Jessica Purkiss</td>\n",
              "      <td>Videos 15 Civilians Killed In Single US Airstr...</td>\n",
              "      <td>1</td>\n",
              "    </tr>\n",
              "    <tr>\n",
              "      <th>4</th>\n",
              "      <td>4</td>\n",
              "      <td>Iranian woman jailed for fictional unpublished...</td>\n",
              "      <td>Howard Portnoy</td>\n",
              "      <td>Print \\nAn Iranian woman has been sentenced to...</td>\n",
              "      <td>1</td>\n",
              "    </tr>\n",
              "  </tbody>\n",
              "</table>\n",
              "</div>\n",
              "      <button class=\"colab-df-convert\" onclick=\"convertToInteractive('df-c21609e0-dd62-4107-aaae-b305e5ca7db8')\"\n",
              "              title=\"Convert this dataframe to an interactive table.\"\n",
              "              style=\"display:none;\">\n",
              "        \n",
              "  <svg xmlns=\"http://www.w3.org/2000/svg\" height=\"24px\"viewBox=\"0 0 24 24\"\n",
              "       width=\"24px\">\n",
              "    <path d=\"M0 0h24v24H0V0z\" fill=\"none\"/>\n",
              "    <path d=\"M18.56 5.44l.94 2.06.94-2.06 2.06-.94-2.06-.94-.94-2.06-.94 2.06-2.06.94zm-11 1L8.5 8.5l.94-2.06 2.06-.94-2.06-.94L8.5 2.5l-.94 2.06-2.06.94zm10 10l.94 2.06.94-2.06 2.06-.94-2.06-.94-.94-2.06-.94 2.06-2.06.94z\"/><path d=\"M17.41 7.96l-1.37-1.37c-.4-.4-.92-.59-1.43-.59-.52 0-1.04.2-1.43.59L10.3 9.45l-7.72 7.72c-.78.78-.78 2.05 0 2.83L4 21.41c.39.39.9.59 1.41.59.51 0 1.02-.2 1.41-.59l7.78-7.78 2.81-2.81c.8-.78.8-2.07 0-2.86zM5.41 20L4 18.59l7.72-7.72 1.47 1.35L5.41 20z\"/>\n",
              "  </svg>\n",
              "      </button>\n",
              "      \n",
              "  <style>\n",
              "    .colab-df-container {\n",
              "      display:flex;\n",
              "      flex-wrap:wrap;\n",
              "      gap: 12px;\n",
              "    }\n",
              "\n",
              "    .colab-df-convert {\n",
              "      background-color: #E8F0FE;\n",
              "      border: none;\n",
              "      border-radius: 50%;\n",
              "      cursor: pointer;\n",
              "      display: none;\n",
              "      fill: #1967D2;\n",
              "      height: 32px;\n",
              "      padding: 0 0 0 0;\n",
              "      width: 32px;\n",
              "    }\n",
              "\n",
              "    .colab-df-convert:hover {\n",
              "      background-color: #E2EBFA;\n",
              "      box-shadow: 0px 1px 2px rgba(60, 64, 67, 0.3), 0px 1px 3px 1px rgba(60, 64, 67, 0.15);\n",
              "      fill: #174EA6;\n",
              "    }\n",
              "\n",
              "    [theme=dark] .colab-df-convert {\n",
              "      background-color: #3B4455;\n",
              "      fill: #D2E3FC;\n",
              "    }\n",
              "\n",
              "    [theme=dark] .colab-df-convert:hover {\n",
              "      background-color: #434B5C;\n",
              "      box-shadow: 0px 1px 3px 1px rgba(0, 0, 0, 0.15);\n",
              "      filter: drop-shadow(0px 1px 2px rgba(0, 0, 0, 0.3));\n",
              "      fill: #FFFFFF;\n",
              "    }\n",
              "  </style>\n",
              "\n",
              "      <script>\n",
              "        const buttonEl =\n",
              "          document.querySelector('#df-c21609e0-dd62-4107-aaae-b305e5ca7db8 button.colab-df-convert');\n",
              "        buttonEl.style.display =\n",
              "          google.colab.kernel.accessAllowed ? 'block' : 'none';\n",
              "\n",
              "        async function convertToInteractive(key) {\n",
              "          const element = document.querySelector('#df-c21609e0-dd62-4107-aaae-b305e5ca7db8');\n",
              "          const dataTable =\n",
              "            await google.colab.kernel.invokeFunction('convertToInteractive',\n",
              "                                                     [key], {});\n",
              "          if (!dataTable) return;\n",
              "\n",
              "          const docLinkHtml = 'Like what you see? Visit the ' +\n",
              "            '<a target=\"_blank\" href=https://colab.research.google.com/notebooks/data_table.ipynb>data table notebook</a>'\n",
              "            + ' to learn more about interactive tables.';\n",
              "          element.innerHTML = '';\n",
              "          dataTable['output_type'] = 'display_data';\n",
              "          await google.colab.output.renderOutput(dataTable, element);\n",
              "          const docLink = document.createElement('div');\n",
              "          docLink.innerHTML = docLinkHtml;\n",
              "          element.appendChild(docLink);\n",
              "        }\n",
              "      </script>\n",
              "    </div>\n",
              "  </div>\n",
              "  "
            ]
          },
          "metadata": {},
          "execution_count": 8
        }
      ]
    },
    {
      "cell_type": "code",
      "source": [
        "data.shape\n"
      ],
      "metadata": {
        "colab": {
          "base_uri": "https://localhost:8080/"
        },
        "id": "K41s02QoMojA",
        "outputId": "a8a9c3a5-ff5d-4534-f3b1-be6ed9276278"
      },
      "execution_count": null,
      "outputs": [
        {
          "output_type": "execute_result",
          "data": {
            "text/plain": [
              "(18285, 5)"
            ]
          },
          "metadata": {},
          "execution_count": 9
        }
      ]
    },
    {
      "cell_type": "code",
      "source": [
        "y = data['label']"
      ],
      "metadata": {
        "id": "xrgo7ZqrNJ7L"
      },
      "execution_count": null,
      "outputs": []
    },
    {
      "cell_type": "code",
      "source": [
        "y.shape"
      ],
      "metadata": {
        "colab": {
          "base_uri": "https://localhost:8080/"
        },
        "id": "lb5vkQxNNU8H",
        "outputId": "a4b7011a-d9f7-44fb-8065-154cffec9bb4"
      },
      "execution_count": null,
      "outputs": [
        {
          "output_type": "execute_result",
          "data": {
            "text/plain": [
              "(18285,)"
            ]
          },
          "metadata": {},
          "execution_count": 11
        }
      ]
    },
    {
      "cell_type": "code",
      "source": [
        "X = data.iloc[:,:-1]"
      ],
      "metadata": {
        "id": "iWNlUsP2NWT9"
      },
      "execution_count": null,
      "outputs": []
    },
    {
      "cell_type": "code",
      "source": [
        "X.info()"
      ],
      "metadata": {
        "colab": {
          "base_uri": "https://localhost:8080/"
        },
        "id": "L8QjF-fjNcAF",
        "outputId": "186c361f-31de-4958-9581-1622d4a43967"
      },
      "execution_count": null,
      "outputs": [
        {
          "output_type": "stream",
          "name": "stdout",
          "text": [
            "<class 'pandas.core.frame.DataFrame'>\n",
            "Int64Index: 18285 entries, 0 to 20799\n",
            "Data columns (total 4 columns):\n",
            " #   Column  Non-Null Count  Dtype \n",
            "---  ------  --------------  ----- \n",
            " 0   id      18285 non-null  int64 \n",
            " 1   title   18285 non-null  object\n",
            " 2   author  18285 non-null  object\n",
            " 3   text    18285 non-null  object\n",
            "dtypes: int64(1), object(3)\n",
            "memory usage: 714.3+ KB\n"
          ]
        }
      ]
    },
    {
      "cell_type": "markdown",
      "source": [
        "####Getting the nltk libraries "
      ],
      "metadata": {
        "id": "zb4Px3MOwCk6"
      }
    },
    {
      "cell_type": "code",
      "source": [
        "!pip install nltk"
      ],
      "metadata": {
        "colab": {
          "base_uri": "https://localhost:8080/"
        },
        "id": "fCL1AFESPWsR",
        "outputId": "83e3ebbb-1b4f-4b65-f9f8-087592e4f899"
      },
      "execution_count": null,
      "outputs": [
        {
          "output_type": "stream",
          "name": "stdout",
          "text": [
            "Looking in indexes: https://pypi.org/simple, https://us-python.pkg.dev/colab-wheels/public/simple/\n",
            "Requirement already satisfied: nltk in /usr/local/lib/python3.8/dist-packages (3.7)\n",
            "Requirement already satisfied: click in /usr/local/lib/python3.8/dist-packages (from nltk) (7.1.2)\n",
            "Requirement already satisfied: joblib in /usr/local/lib/python3.8/dist-packages (from nltk) (1.2.0)\n",
            "Requirement already satisfied: tqdm in /usr/local/lib/python3.8/dist-packages (from nltk) (4.64.1)\n",
            "Requirement already satisfied: regex>=2021.8.3 in /usr/local/lib/python3.8/dist-packages (from nltk) (2022.6.2)\n"
          ]
        }
      ]
    },
    {
      "cell_type": "code",
      "source": [
        "import nltk"
      ],
      "metadata": {
        "id": "o2YKlKJDP61J"
      },
      "execution_count": null,
      "outputs": []
    },
    {
      "cell_type": "code",
      "source": [
        "nltk.download('all')"
      ],
      "metadata": {
        "id": "x4rQhUNvPx1S",
        "colab": {
          "base_uri": "https://localhost:8080/"
        },
        "outputId": "8dde2edf-6f53-4321-912d-9e93c05ebbef"
      },
      "execution_count": null,
      "outputs": [
        {
          "output_type": "stream",
          "name": "stderr",
          "text": [
            "[nltk_data] Downloading collection 'all'\n",
            "[nltk_data]    | \n",
            "[nltk_data]    | Downloading package abc to /root/nltk_data...\n",
            "[nltk_data]    |   Unzipping corpora/abc.zip.\n",
            "[nltk_data]    | Downloading package alpino to /root/nltk_data...\n",
            "[nltk_data]    |   Unzipping corpora/alpino.zip.\n",
            "[nltk_data]    | Downloading package averaged_perceptron_tagger to\n",
            "[nltk_data]    |     /root/nltk_data...\n",
            "[nltk_data]    |   Unzipping taggers/averaged_perceptron_tagger.zip.\n",
            "[nltk_data]    | Downloading package averaged_perceptron_tagger_ru to\n",
            "[nltk_data]    |     /root/nltk_data...\n",
            "[nltk_data]    |   Unzipping\n",
            "[nltk_data]    |       taggers/averaged_perceptron_tagger_ru.zip.\n",
            "[nltk_data]    | Downloading package basque_grammars to\n",
            "[nltk_data]    |     /root/nltk_data...\n",
            "[nltk_data]    |   Unzipping grammars/basque_grammars.zip.\n",
            "[nltk_data]    | Downloading package bcp47 to /root/nltk_data...\n",
            "[nltk_data]    | Downloading package biocreative_ppi to\n",
            "[nltk_data]    |     /root/nltk_data...\n",
            "[nltk_data]    |   Unzipping corpora/biocreative_ppi.zip.\n",
            "[nltk_data]    | Downloading package bllip_wsj_no_aux to\n",
            "[nltk_data]    |     /root/nltk_data...\n",
            "[nltk_data]    |   Unzipping models/bllip_wsj_no_aux.zip.\n",
            "[nltk_data]    | Downloading package book_grammars to\n",
            "[nltk_data]    |     /root/nltk_data...\n",
            "[nltk_data]    |   Unzipping grammars/book_grammars.zip.\n",
            "[nltk_data]    | Downloading package brown to /root/nltk_data...\n",
            "[nltk_data]    |   Unzipping corpora/brown.zip.\n",
            "[nltk_data]    | Downloading package brown_tei to /root/nltk_data...\n",
            "[nltk_data]    |   Unzipping corpora/brown_tei.zip.\n",
            "[nltk_data]    | Downloading package cess_cat to /root/nltk_data...\n",
            "[nltk_data]    |   Unzipping corpora/cess_cat.zip.\n",
            "[nltk_data]    | Downloading package cess_esp to /root/nltk_data...\n",
            "[nltk_data]    |   Unzipping corpora/cess_esp.zip.\n",
            "[nltk_data]    | Downloading package chat80 to /root/nltk_data...\n",
            "[nltk_data]    |   Unzipping corpora/chat80.zip.\n",
            "[nltk_data]    | Downloading package city_database to\n",
            "[nltk_data]    |     /root/nltk_data...\n",
            "[nltk_data]    |   Unzipping corpora/city_database.zip.\n",
            "[nltk_data]    | Downloading package cmudict to /root/nltk_data...\n",
            "[nltk_data]    |   Unzipping corpora/cmudict.zip.\n",
            "[nltk_data]    | Downloading package comparative_sentences to\n",
            "[nltk_data]    |     /root/nltk_data...\n",
            "[nltk_data]    |   Unzipping corpora/comparative_sentences.zip.\n",
            "[nltk_data]    | Downloading package comtrans to /root/nltk_data...\n",
            "[nltk_data]    | Downloading package conll2000 to /root/nltk_data...\n",
            "[nltk_data]    |   Unzipping corpora/conll2000.zip.\n",
            "[nltk_data]    | Downloading package conll2002 to /root/nltk_data...\n",
            "[nltk_data]    |   Unzipping corpora/conll2002.zip.\n",
            "[nltk_data]    | Downloading package conll2007 to /root/nltk_data...\n",
            "[nltk_data]    | Downloading package crubadan to /root/nltk_data...\n",
            "[nltk_data]    |   Unzipping corpora/crubadan.zip.\n",
            "[nltk_data]    | Downloading package dependency_treebank to\n",
            "[nltk_data]    |     /root/nltk_data...\n",
            "[nltk_data]    |   Unzipping corpora/dependency_treebank.zip.\n",
            "[nltk_data]    | Downloading package dolch to /root/nltk_data...\n",
            "[nltk_data]    |   Unzipping corpora/dolch.zip.\n",
            "[nltk_data]    | Downloading package europarl_raw to\n",
            "[nltk_data]    |     /root/nltk_data...\n",
            "[nltk_data]    |   Unzipping corpora/europarl_raw.zip.\n",
            "[nltk_data]    | Downloading package extended_omw to\n",
            "[nltk_data]    |     /root/nltk_data...\n",
            "[nltk_data]    | Downloading package floresta to /root/nltk_data...\n",
            "[nltk_data]    |   Unzipping corpora/floresta.zip.\n",
            "[nltk_data]    | Downloading package framenet_v15 to\n",
            "[nltk_data]    |     /root/nltk_data...\n",
            "[nltk_data]    |   Unzipping corpora/framenet_v15.zip.\n",
            "[nltk_data]    | Downloading package framenet_v17 to\n",
            "[nltk_data]    |     /root/nltk_data...\n",
            "[nltk_data]    |   Unzipping corpora/framenet_v17.zip.\n",
            "[nltk_data]    | Downloading package gazetteers to /root/nltk_data...\n",
            "[nltk_data]    |   Unzipping corpora/gazetteers.zip.\n",
            "[nltk_data]    | Downloading package genesis to /root/nltk_data...\n",
            "[nltk_data]    |   Unzipping corpora/genesis.zip.\n",
            "[nltk_data]    | Downloading package gutenberg to /root/nltk_data...\n",
            "[nltk_data]    |   Unzipping corpora/gutenberg.zip.\n",
            "[nltk_data]    | Downloading package ieer to /root/nltk_data...\n",
            "[nltk_data]    |   Unzipping corpora/ieer.zip.\n",
            "[nltk_data]    | Downloading package inaugural to /root/nltk_data...\n",
            "[nltk_data]    |   Unzipping corpora/inaugural.zip.\n",
            "[nltk_data]    | Downloading package indian to /root/nltk_data...\n",
            "[nltk_data]    |   Unzipping corpora/indian.zip.\n",
            "[nltk_data]    | Downloading package jeita to /root/nltk_data...\n",
            "[nltk_data]    | Downloading package kimmo to /root/nltk_data...\n",
            "[nltk_data]    |   Unzipping corpora/kimmo.zip.\n",
            "[nltk_data]    | Downloading package knbc to /root/nltk_data...\n",
            "[nltk_data]    | Downloading package large_grammars to\n",
            "[nltk_data]    |     /root/nltk_data...\n",
            "[nltk_data]    |   Unzipping grammars/large_grammars.zip.\n",
            "[nltk_data]    | Downloading package lin_thesaurus to\n",
            "[nltk_data]    |     /root/nltk_data...\n",
            "[nltk_data]    |   Unzipping corpora/lin_thesaurus.zip.\n",
            "[nltk_data]    | Downloading package mac_morpho to /root/nltk_data...\n",
            "[nltk_data]    |   Unzipping corpora/mac_morpho.zip.\n",
            "[nltk_data]    | Downloading package machado to /root/nltk_data...\n",
            "[nltk_data]    | Downloading package masc_tagged to /root/nltk_data...\n",
            "[nltk_data]    | Downloading package maxent_ne_chunker to\n",
            "[nltk_data]    |     /root/nltk_data...\n",
            "[nltk_data]    |   Unzipping chunkers/maxent_ne_chunker.zip.\n",
            "[nltk_data]    | Downloading package maxent_treebank_pos_tagger to\n",
            "[nltk_data]    |     /root/nltk_data...\n",
            "[nltk_data]    |   Unzipping taggers/maxent_treebank_pos_tagger.zip.\n",
            "[nltk_data]    | Downloading package moses_sample to\n",
            "[nltk_data]    |     /root/nltk_data...\n",
            "[nltk_data]    |   Unzipping models/moses_sample.zip.\n",
            "[nltk_data]    | Downloading package movie_reviews to\n",
            "[nltk_data]    |     /root/nltk_data...\n",
            "[nltk_data]    |   Unzipping corpora/movie_reviews.zip.\n",
            "[nltk_data]    | Downloading package mte_teip5 to /root/nltk_data...\n",
            "[nltk_data]    |   Unzipping corpora/mte_teip5.zip.\n",
            "[nltk_data]    | Downloading package mwa_ppdb to /root/nltk_data...\n",
            "[nltk_data]    |   Unzipping misc/mwa_ppdb.zip.\n",
            "[nltk_data]    | Downloading package names to /root/nltk_data...\n",
            "[nltk_data]    |   Unzipping corpora/names.zip.\n",
            "[nltk_data]    | Downloading package nombank.1.0 to /root/nltk_data...\n",
            "[nltk_data]    | Downloading package nonbreaking_prefixes to\n",
            "[nltk_data]    |     /root/nltk_data...\n",
            "[nltk_data]    |   Unzipping corpora/nonbreaking_prefixes.zip.\n",
            "[nltk_data]    | Downloading package nps_chat to /root/nltk_data...\n",
            "[nltk_data]    |   Unzipping corpora/nps_chat.zip.\n",
            "[nltk_data]    | Downloading package omw to /root/nltk_data...\n",
            "[nltk_data]    | Downloading package omw-1.4 to /root/nltk_data...\n",
            "[nltk_data]    | Downloading package opinion_lexicon to\n",
            "[nltk_data]    |     /root/nltk_data...\n",
            "[nltk_data]    |   Unzipping corpora/opinion_lexicon.zip.\n",
            "[nltk_data]    | Downloading package panlex_swadesh to\n",
            "[nltk_data]    |     /root/nltk_data...\n",
            "[nltk_data]    | Downloading package paradigms to /root/nltk_data...\n",
            "[nltk_data]    |   Unzipping corpora/paradigms.zip.\n",
            "[nltk_data]    | Downloading package pe08 to /root/nltk_data...\n",
            "[nltk_data]    |   Unzipping corpora/pe08.zip.\n",
            "[nltk_data]    | Downloading package perluniprops to\n",
            "[nltk_data]    |     /root/nltk_data...\n",
            "[nltk_data]    |   Unzipping misc/perluniprops.zip.\n",
            "[nltk_data]    | Downloading package pil to /root/nltk_data...\n",
            "[nltk_data]    |   Unzipping corpora/pil.zip.\n",
            "[nltk_data]    | Downloading package pl196x to /root/nltk_data...\n",
            "[nltk_data]    |   Unzipping corpora/pl196x.zip.\n",
            "[nltk_data]    | Downloading package porter_test to /root/nltk_data...\n",
            "[nltk_data]    |   Unzipping stemmers/porter_test.zip.\n",
            "[nltk_data]    | Downloading package ppattach to /root/nltk_data...\n",
            "[nltk_data]    |   Unzipping corpora/ppattach.zip.\n",
            "[nltk_data]    | Downloading package problem_reports to\n",
            "[nltk_data]    |     /root/nltk_data...\n",
            "[nltk_data]    |   Unzipping corpora/problem_reports.zip.\n",
            "[nltk_data]    | Downloading package product_reviews_1 to\n",
            "[nltk_data]    |     /root/nltk_data...\n",
            "[nltk_data]    |   Unzipping corpora/product_reviews_1.zip.\n",
            "[nltk_data]    | Downloading package product_reviews_2 to\n",
            "[nltk_data]    |     /root/nltk_data...\n",
            "[nltk_data]    |   Unzipping corpora/product_reviews_2.zip.\n",
            "[nltk_data]    | Downloading package propbank to /root/nltk_data...\n",
            "[nltk_data]    | Downloading package pros_cons to /root/nltk_data...\n",
            "[nltk_data]    |   Unzipping corpora/pros_cons.zip.\n",
            "[nltk_data]    | Downloading package ptb to /root/nltk_data...\n",
            "[nltk_data]    |   Unzipping corpora/ptb.zip.\n",
            "[nltk_data]    | Downloading package punkt to /root/nltk_data...\n",
            "[nltk_data]    |   Unzipping tokenizers/punkt.zip.\n",
            "[nltk_data]    | Downloading package qc to /root/nltk_data...\n",
            "[nltk_data]    |   Unzipping corpora/qc.zip.\n",
            "[nltk_data]    | Downloading package reuters to /root/nltk_data...\n",
            "[nltk_data]    | Downloading package rslp to /root/nltk_data...\n",
            "[nltk_data]    |   Unzipping stemmers/rslp.zip.\n",
            "[nltk_data]    | Downloading package rte to /root/nltk_data...\n",
            "[nltk_data]    |   Unzipping corpora/rte.zip.\n",
            "[nltk_data]    | Downloading package sample_grammars to\n",
            "[nltk_data]    |     /root/nltk_data...\n",
            "[nltk_data]    |   Unzipping grammars/sample_grammars.zip.\n",
            "[nltk_data]    | Downloading package semcor to /root/nltk_data...\n",
            "[nltk_data]    | Downloading package senseval to /root/nltk_data...\n",
            "[nltk_data]    |   Unzipping corpora/senseval.zip.\n",
            "[nltk_data]    | Downloading package sentence_polarity to\n",
            "[nltk_data]    |     /root/nltk_data...\n",
            "[nltk_data]    |   Unzipping corpora/sentence_polarity.zip.\n",
            "[nltk_data]    | Downloading package sentiwordnet to\n",
            "[nltk_data]    |     /root/nltk_data...\n",
            "[nltk_data]    |   Unzipping corpora/sentiwordnet.zip.\n",
            "[nltk_data]    | Downloading package shakespeare to /root/nltk_data...\n",
            "[nltk_data]    |   Unzipping corpora/shakespeare.zip.\n",
            "[nltk_data]    | Downloading package sinica_treebank to\n",
            "[nltk_data]    |     /root/nltk_data...\n",
            "[nltk_data]    |   Unzipping corpora/sinica_treebank.zip.\n",
            "[nltk_data]    | Downloading package smultron to /root/nltk_data...\n",
            "[nltk_data]    |   Unzipping corpora/smultron.zip.\n",
            "[nltk_data]    | Downloading package snowball_data to\n",
            "[nltk_data]    |     /root/nltk_data...\n",
            "[nltk_data]    | Downloading package spanish_grammars to\n",
            "[nltk_data]    |     /root/nltk_data...\n",
            "[nltk_data]    |   Unzipping grammars/spanish_grammars.zip.\n",
            "[nltk_data]    | Downloading package state_union to /root/nltk_data...\n",
            "[nltk_data]    |   Unzipping corpora/state_union.zip.\n",
            "[nltk_data]    | Downloading package stopwords to /root/nltk_data...\n",
            "[nltk_data]    |   Unzipping corpora/stopwords.zip.\n",
            "[nltk_data]    | Downloading package subjectivity to\n",
            "[nltk_data]    |     /root/nltk_data...\n",
            "[nltk_data]    |   Unzipping corpora/subjectivity.zip.\n",
            "[nltk_data]    | Downloading package swadesh to /root/nltk_data...\n",
            "[nltk_data]    |   Unzipping corpora/swadesh.zip.\n",
            "[nltk_data]    | Downloading package switchboard to /root/nltk_data...\n",
            "[nltk_data]    |   Unzipping corpora/switchboard.zip.\n",
            "[nltk_data]    | Downloading package tagsets to /root/nltk_data...\n",
            "[nltk_data]    |   Unzipping help/tagsets.zip.\n",
            "[nltk_data]    | Downloading package timit to /root/nltk_data...\n",
            "[nltk_data]    |   Unzipping corpora/timit.zip.\n",
            "[nltk_data]    | Downloading package toolbox to /root/nltk_data...\n",
            "[nltk_data]    |   Unzipping corpora/toolbox.zip.\n",
            "[nltk_data]    | Downloading package treebank to /root/nltk_data...\n",
            "[nltk_data]    |   Unzipping corpora/treebank.zip.\n",
            "[nltk_data]    | Downloading package twitter_samples to\n",
            "[nltk_data]    |     /root/nltk_data...\n",
            "[nltk_data]    |   Unzipping corpora/twitter_samples.zip.\n",
            "[nltk_data]    | Downloading package udhr to /root/nltk_data...\n",
            "[nltk_data]    |   Unzipping corpora/udhr.zip.\n",
            "[nltk_data]    | Downloading package udhr2 to /root/nltk_data...\n",
            "[nltk_data]    |   Unzipping corpora/udhr2.zip.\n",
            "[nltk_data]    | Downloading package unicode_samples to\n",
            "[nltk_data]    |     /root/nltk_data...\n",
            "[nltk_data]    |   Unzipping corpora/unicode_samples.zip.\n",
            "[nltk_data]    | Downloading package universal_tagset to\n",
            "[nltk_data]    |     /root/nltk_data...\n",
            "[nltk_data]    |   Unzipping taggers/universal_tagset.zip.\n",
            "[nltk_data]    | Downloading package universal_treebanks_v20 to\n",
            "[nltk_data]    |     /root/nltk_data...\n",
            "[nltk_data]    | Downloading package vader_lexicon to\n",
            "[nltk_data]    |     /root/nltk_data...\n",
            "[nltk_data]    | Downloading package verbnet to /root/nltk_data...\n",
            "[nltk_data]    |   Unzipping corpora/verbnet.zip.\n",
            "[nltk_data]    | Downloading package verbnet3 to /root/nltk_data...\n",
            "[nltk_data]    |   Unzipping corpora/verbnet3.zip.\n",
            "[nltk_data]    | Downloading package webtext to /root/nltk_data...\n",
            "[nltk_data]    |   Unzipping corpora/webtext.zip.\n",
            "[nltk_data]    | Downloading package wmt15_eval to /root/nltk_data...\n",
            "[nltk_data]    |   Unzipping models/wmt15_eval.zip.\n",
            "[nltk_data]    | Downloading package word2vec_sample to\n",
            "[nltk_data]    |     /root/nltk_data...\n",
            "[nltk_data]    |   Unzipping models/word2vec_sample.zip.\n",
            "[nltk_data]    | Downloading package wordnet to /root/nltk_data...\n",
            "[nltk_data]    | Downloading package wordnet2021 to /root/nltk_data...\n",
            "[nltk_data]    | Downloading package wordnet31 to /root/nltk_data...\n",
            "[nltk_data]    | Downloading package wordnet_ic to /root/nltk_data...\n",
            "[nltk_data]    |   Unzipping corpora/wordnet_ic.zip.\n",
            "[nltk_data]    | Downloading package words to /root/nltk_data...\n",
            "[nltk_data]    |   Unzipping corpora/words.zip.\n",
            "[nltk_data]    | Downloading package ycoe to /root/nltk_data...\n",
            "[nltk_data]    |   Unzipping corpora/ycoe.zip.\n",
            "[nltk_data]    | \n",
            "[nltk_data]  Done downloading collection all\n"
          ]
        },
        {
          "output_type": "execute_result",
          "data": {
            "text/plain": [
              "True"
            ]
          },
          "metadata": {},
          "execution_count": 19
        }
      ]
    },
    {
      "cell_type": "code",
      "source": [
        "from keras.preprocessing.text import Tokenizer\n",
        "from nltk.corpus import stopwords\n",
        "from nltk.stem import WordNetLemmatizer\n",
        "import re\n",
        "\n",
        "from keras.utils import pad_sequences\n",
        "from keras.preprocessing.text import one_hot\n",
        "\n",
        "from keras.models import Sequential\n",
        "from keras.layers import Embedding\n",
        "from keras.layers import LSTM\n",
        "from keras.layers import Flatten\n",
        "from keras.layers import Dense\n"
      ],
      "metadata": {
        "id": "rO7AwqX3Nm3q"
      },
      "execution_count": null,
      "outputs": []
    },
    {
      "cell_type": "code",
      "source": [
        "X.reset_index(inplace = True)"
      ],
      "metadata": {
        "id": "hqQRIP03Pb-w"
      },
      "execution_count": null,
      "outputs": []
    },
    {
      "cell_type": "markdown",
      "source": [
        "### Data Preprocessing\n"
      ],
      "metadata": {
        "id": "qjHgVJT9Qowu"
      }
    },
    {
      "cell_type": "markdown",
      "source": [
        "the necessary libraries are imported for the preprocessing and other functions."
      ],
      "metadata": {
        "id": "eaWUT1MLwYFG"
      }
    },
    {
      "cell_type": "markdown",
      "source": [
        "The cell below does the following things:\n",
        "\n",
        "\n",
        "* remove the characters other than the alphabets. \n",
        "* lowering the characters\n",
        "* splitting the each sentence to words and performing Lemmatization technique on them using WordNetLemmatizer. Here PorterStemmer could've also been used for the stemming. \n",
        "\n",
        "NOte: the words are not considered if they are in stop words set.  \n",
        "* joining the lemmatized words back to sentences. \n",
        "* and creating the list of sentences as the input data on the model.  \n",
        "\n"
      ],
      "metadata": {
        "id": "7851e6xvwhpw"
      }
    },
    {
      "cell_type": "code",
      "source": [
        "lemmatizer = WordNetLemmatizer()\n",
        "stp_words = set(stopwords.words('english'))\n",
        "corpus = []\n",
        "for i in range(len(X)):\n",
        "  title = re.sub('[^a-zA-Z]', \" \", X['title'][i])\n",
        "  title = title.lower()\n",
        "  title = title.split()  # sent to words\n",
        "  title = [lemmatizer.lemquematize(word) for word in title if word not in stp_words]\n",
        "  title = ' '.join(title)\n",
        "  corpus.append(title)"
      ],
      "metadata": {
        "id": "rPnQZ8ElQC-W"
      },
      "execution_count": null,
      "outputs": []
    },
    {
      "cell_type": "code",
      "source": [
        "len(corpus)"
      ],
      "metadata": {
        "colab": {
          "base_uri": "https://localhost:8080/"
        },
        "id": "ZlbmwFu-QI_I",
        "outputId": "66a2de7d-c7a9-4498-f149-c80fe2a9df72"
      },
      "execution_count": null,
      "outputs": [
        {
          "output_type": "execute_result",
          "data": {
            "text/plain": [
              "18285"
            ]
          },
          "metadata": {},
          "execution_count": 22
        }
      ]
    },
    {
      "cell_type": "code",
      "source": [
        "corpus[0]"
      ],
      "metadata": {
        "colab": {
          "base_uri": "https://localhost:8080/",
          "height": 35
        },
        "id": "e0OgjkEpQKgy",
        "outputId": "65a72a7c-da83-48f5-d8d3-42fcca71269b"
      },
      "execution_count": null,
      "outputs": [
        {
          "output_type": "execute_result",
          "data": {
            "text/plain": [
              "'house dem aide even see comey letter jason chaffetz tweeted'"
            ],
            "application/vnd.google.colaboratory.intrinsic+json": {
              "type": "string"
            }
          },
          "metadata": {},
          "execution_count": 23
        }
      ]
    },
    {
      "cell_type": "code",
      "source": [
        "data['title'][0]"
      ],
      "metadata": {
        "colab": {
          "base_uri": "https://localhost:8080/",
          "height": 35
        },
        "id": "CbE-dpORUcfH",
        "outputId": "0a0add46-4a39-4fdd-9238-6bb35c2b0813"
      },
      "execution_count": null,
      "outputs": [
        {
          "output_type": "execute_result",
          "data": {
            "text/plain": [
              "'House Dem Aide: We Didn’t Even See Comey’s Letter Until Jason Chaffetz Tweeted It'"
            ],
            "application/vnd.google.colaboratory.intrinsic+json": {
              "type": "string"
            }
          },
          "metadata": {},
          "execution_count": 24
        }
      ]
    },
    {
      "cell_type": "markdown",
      "source": [
        "### ONe HOT REP"
      ],
      "metadata": {
        "id": "yUXvz3jeVAQ7"
      }
    },
    {
      "cell_type": "markdown",
      "source": [
        "One hot representation provides the unique index values for all the words in the corpus considering the given vocab_size (5000)."
      ],
      "metadata": {
        "id": "FW2SrZlnx123"
      }
    },
    {
      "cell_type": "code",
      "source": [
        "vocab_size = 5000\n",
        "one_hot_rep = [one_hot(word, vocab_size) for word in corpus]\n",
        "one_hot_rep"
      ],
      "metadata": {
        "colab": {
          "base_uri": "https://localhost:8080/"
        },
        "id": "ChqmUtDiUURS",
        "outputId": "d5e2362f-8c99-435d-b859-9855f4133051"
      },
      "execution_count": null,
      "outputs": [
        {
          "output_type": "execute_result",
          "data": {
            "text/plain": [
              "[[696, 3452, 2428, 81, 3385, 4956, 2378, 1765, 3424, 3461],\n",
              " [2431, 3370, 2065, 436, 1855, 3729, 2951],\n",
              " [1734, 2608, 3853, 2754],\n",
              " [580, 2703, 4742, 383, 4468, 3692],\n",
              " [622, 1855, 2551, 3256, 3551, 4276, 1855, 1292, 3920, 4144],\n",
              " [1549,\n",
              "  1531,\n",
              "  2080,\n",
              "  787,\n",
              "  3498,\n",
              "  2955,\n",
              "  4942,\n",
              "  2526,\n",
              "  3732,\n",
              "  3889,\n",
              "  448,\n",
              "  3525,\n",
              "  4721,\n",
              "  183,\n",
              "  2951],\n",
              " [4831, 992, 1835, 96, 4317, 719, 1036, 591, 1878, 2883, 1314],\n",
              " [3815, 4316, 1061, 4304, 3910, 762, 2955, 135, 1878, 2883, 1314],\n",
              " [1803, 515, 985, 614, 391, 382, 2327, 901, 2955, 1326],\n",
              " [1831, 3502, 1867, 1907, 4409, 594, 4798, 4557],\n",
              " [4656, 3747, 505, 4845, 1611, 4280, 1082, 2403, 1315, 305, 1320],\n",
              " [383, 537, 3385, 1693, 2955, 3910],\n",
              " [12, 1416, 4349, 4279, 3886, 2582, 639, 4562, 4603],\n",
              " [3008, 2121, 4216, 3440, 1302, 1670, 434, 1878, 2883, 1314],\n",
              " [3627, 4499, 3352, 3944, 1820, 1878, 2883, 1314],\n",
              " [4449, 2389, 3806, 109, 1556, 4942, 4824, 1037, 96, 4131],\n",
              " [3630, 3551, 3370],\n",
              " [508, 3012, 3108, 2948, 2955, 558, 1260, 2951],\n",
              " [1082, 1800, 2065, 1233, 3428, 1845, 1642, 4487, 4276],\n",
              " [1238, 2788, 2955, 3915, 3245, 2951],\n",
              " [4660, 1424, 4929, 3853, 2693, 1642, 1558, 1257, 330, 1878, 2883, 1314],\n",
              " [3984, 4484, 4104, 4892, 4, 4233, 2321],\n",
              " [4721, 1204, 4208, 3046, 214, 3774, 2933, 2958, 609, 4887, 4555, 2951],\n",
              " [1364, 3370, 4453, 3942, 182, 667, 4677, 3870],\n",
              " [330, 1621, 2981, 1745, 1450, 1802, 1233, 2087, 3392, 1878, 2883, 1314],\n",
              " [3370, 2065, 880, 3114, 1878, 2883, 1314],\n",
              " [508, 3012, 3108, 2828, 4220, 3935, 1745, 2951],\n",
              " [2804, 1161, 2816, 788, 3839, 1878, 2883, 1314],\n",
              " [4285, 2275, 3861, 1555, 3790, 3901, 36, 3282, 284, 1878, 2883, 1314],\n",
              " [1161, 3781, 429, 2506, 377, 816, 1188, 1906, 2091, 1878, 2883, 1314],\n",
              " [3910, 4260, 4, 3815, 3264, 4130, 1878, 2883, 1314],\n",
              " [3596, 2659, 2498, 2027, 3091],\n",
              " [4113, 622, 383, 253],\n",
              " [187, 1866, 4393, 4034, 2764, 530, 4638, 2951],\n",
              " [4584, 3290, 3048, 2178, 1072, 3986, 1878, 2883, 1314],\n",
              " [768, 4600, 3069, 3583, 524, 1161, 4207, 2951],\n",
              " [310, 2465, 3938, 3750],\n",
              " [2966, 3262, 4058, 1634, 4820, 2188, 1878, 2883, 1314],\n",
              " [1518, 609, 3401, 537, 1803, 4864, 4225, 4273, 2951],\n",
              " [347, 1242, 2797, 2188, 2844, 3645, 2981, 1878, 2883, 1314],\n",
              " [1548, 2315, 2290, 803, 1160, 239, 3033, 3308, 183],\n",
              " [2837, 4880, 1519, 701, 1117, 1878, 4140, 1878, 2883, 1314],\n",
              " [2643, 214, 3788, 3137, 123, 1445, 623, 1590, 3197, 3189, 3357, 2951],\n",
              " [4302, 2327, 4315],\n",
              " [4135, 1701, 3311, 3217, 2589, 2568, 3760, 1727, 662, 2951],\n",
              " [2955, 253, 4499, 4512, 1016, 4243],\n",
              " [2685, 2680, 1332, 1144, 4280, 1668, 1955, 489, 663, 4672, 183],\n",
              " [4951, 2993, 1612, 295, 1512],\n",
              " [2948, 2955, 1835, 253, 1754, 2328, 383, 558, 4325],\n",
              " [2028, 4374, 230, 1210, 3367, 1878, 2883, 1314],\n",
              " [3008, 3198, 4333, 3479, 5, 2039, 1878, 2883, 1314],\n",
              " [3461, 1797, 3389, 1887, 253],\n",
              " [573, 382, 971, 3376, 303, 1689, 1218, 2272, 1878, 2883, 1314],\n",
              " [2084, 1318, 2955, 3610, 4100, 2256, 302, 3152, 1348],\n",
              " [1512, 3178, 3111, 1506, 293, 2415, 1716, 1485, 4528, 1878, 2883, 1314],\n",
              " [383, 4153, 1204, 4208, 2781, 1313, 4333, 383, 2826],\n",
              " [223, 1302, 2370, 3021, 4848, 581, 3981, 808, 2764, 1110],\n",
              " [2065, 4610, 2864, 3630, 2405, 525, 4992, 3370, 2065, 3769],\n",
              " [4513, 2343, 1318, 4660, 3870, 1878, 2883, 1314],\n",
              " [1903, 4351, 1062, 2582, 2955, 908, 558, 905],\n",
              " [1008, 4538, 1342, 4028],\n",
              " [3127, 400, 214, 4757, 389],\n",
              " [1864, 3389, 1855, 4154, 1878, 2883, 1314],\n",
              " [4260, 610, 3596, 4111, 3186, 1878, 3260, 1878, 2883, 1314],\n",
              " [1399, 3062, 1326, 1803, 4012, 4447, 1986, 4225, 1878, 2883, 1314],\n",
              " [187, 1430, 3038, 1507, 1194, 1878, 2883, 1314],\n",
              " [4960, 1834, 394, 3972, 1803, 1117, 3370, 1745],\n",
              " [383, 2258, 609, 1217, 4086, 2094, 1878, 2883, 1314],\n",
              " [2214, 3867, 4939, 3731, 2955, 1734, 3267, 2951],\n",
              " [3977, 150, 3060, 383, 1036, 3821, 361, 1612, 3619, 1878, 2883, 1314],\n",
              " [4509, 4038, 4113, 3137, 319, 3230, 2993, 1911, 181],\n",
              " [29, 799, 382, 3370],\n",
              " [3127, 4040, 1154, 1332, 3143, 3066, 365, 4026, 3181],\n",
              " [2955, 3068, 1202, 1125, 1878, 2883, 1314],\n",
              " [3269, 1784, 2528, 2104, 2673, 384, 3906, 2946, 1878, 2883, 1314],\n",
              " [4559],\n",
              " [2955, 3794, 3870, 3194, 1558, 3355, 483, 1878, 2883, 1314],\n",
              " [2981, 1262, 1432, 1274, 2155, 2065, 3870, 2005, 2955, 3810, 3210, 1887],\n",
              " [3876, 4572, 3901, 817, 1878, 2883, 1314],\n",
              " [4808, 4347, 1643, 4158, 4063, 2080, 1506, 1878, 2883, 1314],\n",
              " [3587, 631, 4618, 2186, 4483, 1726, 957, 3893, 2065, 4081],\n",
              " [3714, 584, 4693, 1050, 2492, 277, 1312, 3116, 1878, 2883, 1314],\n",
              " [4542,\n",
              "  3049,\n",
              "  1432,\n",
              "  3718,\n",
              "  4198,\n",
              "  2948,\n",
              "  2955,\n",
              "  187,\n",
              "  3149,\n",
              "  3539,\n",
              "  4272,\n",
              "  1855,\n",
              "  4075,\n",
              "  4673,\n",
              "  1406,\n",
              "  4007],\n",
              " [2951, 1745, 1342, 2955, 514, 2951],\n",
              " [1357, 696, 1087, 2258, 3458, 1803, 348, 3162],\n",
              " [3042, 3319, 3357, 3614, 253, 4007, 2951],\n",
              " [3137, 111, 4622, 1887, 1189, 2557, 4929, 1878, 2883, 1314],\n",
              " [3056, 383, 1187, 351, 1844, 1061, 807, 1878, 2883, 1314],\n",
              " [973, 1907, 4677, 4484, 2376, 2774, 3396],\n",
              " [1642, 2568, 3065, 839, 431, 1138, 1878, 2883, 1314],\n",
              " [3370, 2065, 1987, 109, 4272, 717, 3919, 2948, 2955, 1878, 2883, 1314],\n",
              " [2955, 970, 3382, 1432, 2682, 3686, 1039, 4867],\n",
              " [3275, 3487, 4656, 4349, 524],\n",
              " [3583, 1174, 327, 3879, 1037, 96, 4131],\n",
              " [1405, 4208, 1506, 4758, 1854, 3199, 1178, 1506, 4758, 1854, 2951],\n",
              " [4357, 436, 995, 3976, 600, 4285, 3525, 4586, 2951],\n",
              " [2084, 3070, 3707, 4794, 248, 2655, 4112, 853, 1919, 3779, 2951],\n",
              " [1729, 1736, 3641, 1845, 1506, 2736, 4556, 4690, 436, 4600, 1878, 2883, 1314],\n",
              " [3449, 2554, 1546, 4386, 2248, 2955, 4336, 2186, 1117, 662],\n",
              " [4106, 2955, 1442, 2768, 2641, 799, 2081, 96, 27, 3034, 3131, 2095, 1195],\n",
              " [3423, 4595, 4369, 3688, 4423, 3102, 135, 1325, 1878, 2883, 1314],\n",
              " [2065, 4610, 2467, 938, 4776, 888, 537, 277, 1887, 3370, 3289, 3997],\n",
              " [2315, 1698, 853, 409, 649, 2250, 4879, 277, 264, 515, 2463, 2951],\n",
              " [4043, 310, 141, 1855, 1251, 3994, 4631, 1871, 44, 1878, 2883, 1314],\n",
              " [3045, 1616, 784, 2801, 107, 4464, 1878, 2883, 1314],\n",
              " [1512, 2525, 1008, 4725, 1215, 1791, 1878, 2883, 1314],\n",
              " [2955, 1263, 2691, 4208, 4280, 3855, 537, 1062, 1878, 2883, 1314],\n",
              " [4034, 775, 2764, 3769, 1916, 2981, 1803, 3370, 3769],\n",
              " [164, 786, 696, 1878, 3282, 4301, 593, 4569, 2676, 4225, 248],\n",
              " [3664, 4167, 1051, 3565, 8, 3664, 1274, 1878, 2883, 1314],\n",
              " [3329, 3748, 246, 696, 1091, 4081, 2146],\n",
              " [470, 505, 3431, 3686, 383, 253, 3447, 1825, 3370, 1835],\n",
              " [2549, 2648, 4618, 1448, 3203, 3631, 1878, 2883, 1314],\n",
              " [1068, 3691, 2649, 101, 3272, 4999, 103, 1878, 2883, 1314],\n",
              " [2315, 331, 2989, 1357, 696, 1366, 2948, 2955, 2951],\n",
              " [4427, 1406, 1206, 2955, 2087, 1992, 3308, 2951],\n",
              " [430, 1089, 382, 4939, 4568],\n",
              " [1764, 2955, 1745, 524, 1603, 1878, 2883, 1314],\n",
              " [2948, 2955, 1117, 1061, 642, 2107, 1855, 4318, 1878, 2883, 1314],\n",
              " [1418, 187, 4318, 4586, 4782, 100, 758, 3867, 3367, 2951],\n",
              " [429, 72, 2878, 3554],\n",
              " [537, 150, 3060, 382, 310, 576, 1878, 2883, 1314],\n",
              " [2348, 1745, 3431, 3287, 3893, 264, 3609, 1850, 4229],\n",
              " [383, 3056, 4833, 4153, 25, 2924, 2884, 4537, 1260, 4730],\n",
              " [2955, 4451, 2914, 4046, 1572, 3392, 1642, 3319, 133, 4346, 183],\n",
              " [3630, 1302, 3010, 3079, 3370, 2065, 3769, 799, 3997],\n",
              " [4556, 1642, 2580, 2703, 808, 3261, 2094, 2688, 783],\n",
              " [1471, 2081, 4051, 3587, 4005, 3885, 4227, 2955, 1789],\n",
              " [1008, 1915, 3558, 3270, 1578, 1818],\n",
              " [3994, 2703, 1953, 4649, 3674, 4349, 2742, 1313],\n",
              " [788, 3889, 3812, 4773, 3368, 1729, 403, 1736, 2491, 886, 470],\n",
              " [4386, 1332, 3648, 1166, 94, 434, 890, 1703, 4232, 1729],\n",
              " [513, 3148, 2764, 2774, 277, 3000, 365, 466, 2429, 1887, 806],\n",
              " [3853, 3396, 3794, 4964, 1878, 2883, 1314],\n",
              " [3991, 1764, 1405, 3740, 2955, 701, 3879, 1878, 2883, 1314],\n",
              " [864, 3185, 3446, 1560, 2412, 1061, 4947, 4208, 1878, 2883, 1314],\n",
              " [2113, 1894],\n",
              " [3415, 902, 1357, 696, 1685, 2617, 3279, 1754, 1878, 2883, 1314],\n",
              " [1009, 4545, 2754, 2166, 4845, 4542, 2955, 798, 758, 2951],\n",
              " [2065, 3856],\n",
              " [2977, 2293, 1787, 373, 4776, 4243, 1166, 1878, 2883, 1314],\n",
              " [4776, 2232, 382, 519, 3814],\n",
              " [1878, 4135, 1693, 1780, 3502, 1489, 3097, 4744, 4147],\n",
              " [4250, 3671, 4833, 832],\n",
              " [1332, 4280, 4502, 2599, 175, 4318, 2955],\n",
              " [3760, 951, 433, 4597, 4492, 1332, 167, 2315, 1323, 3340, 1878, 2883, 1314],\n",
              " [4528, 3352, 4081, 1614, 3707, 1590, 999, 1878, 2883, 1314],\n",
              " [4204, 4843, 1332, 4090, 1878, 2883, 1314],\n",
              " [1609, 2920, 1775, 4807, 4345, 3247, 3429, 2951],\n",
              " [4211, 4004, 2598, 4713, 1312, 4826, 1642, 1854, 2937, 1783],\n",
              " [3790, 433, 3372, 4146, 4147, 1809, 2951],\n",
              " [3095, 4424, 1130, 309, 3250, 1175],\n",
              " [2955, 642, 3356, 985, 642, 2302, 1860, 1729, 4830],\n",
              " [4864,\n",
              "  814,\n",
              "  4307,\n",
              "  3558,\n",
              "  3085,\n",
              "  2513,\n",
              "  2186,\n",
              "  4864,\n",
              "  4225,\n",
              "  1723,\n",
              "  3932,\n",
              "  4475,\n",
              "  2621,\n",
              "  2521,\n",
              "  2948,\n",
              "  2955,\n",
              "  2951],\n",
              " [1584, 2315, 4575, 1406, 655, 2948, 2955, 2618, 1878, 2883, 1314],\n",
              " [4113, 2378, 2955, 3319, 2387, 3389],\n",
              " [2625, 1245, 3479, 1726, 3716, 1997, 3370, 4146, 1851, 2389],\n",
              " [2853, 265, 1088, 703, 1321, 319, 3907, 1878, 2883, 1314],\n",
              " [3389, 318, 318, 964, 1878, 2883, 1314],\n",
              " [534, 1062, 1616, 4598, 4627, 1521, 4939, 2052, 1878, 2883, 1314],\n",
              " [997, 4349, 2826, 3245, 2094, 2697, 296, 383, 3910, 3998, 1878, 2883, 1314],\n",
              " [2811, 2378, 3808, 17, 2548, 419, 1485],\n",
              " [1723, 1975, 3661, 1723, 1878, 2883, 1314],\n",
              " [3853, 982, 296, 4214, 483, 1176, 2955, 1878, 2883, 1314],\n",
              " [58, 383, 3135, 2757, 704, 841, 4081, 3808],\n",
              " [3240,\n",
              "  407,\n",
              "  4272,\n",
              "  4919,\n",
              "  3853,\n",
              "  2912,\n",
              "  733,\n",
              "  3189,\n",
              "  696,\n",
              "  1854,\n",
              "  4879,\n",
              "  3853,\n",
              "  3455,\n",
              "  3684,\n",
              "  3804,\n",
              "  579,\n",
              "  1670],\n",
              " [4743, 1210, 4272, 864, 1755, 3102, 3815, 2969, 4758, 995, 3102],\n",
              " [3331, 2955, 2765, 4237, 1878, 2883, 1314],\n",
              " [3630, 1869, 4956, 4266, 888, 64, 2065],\n",
              " [4005, 495, 1401, 1647, 4014, 2849, 1313],\n",
              " [3920, 2333, 4208, 4578],\n",
              " [2625, 52, 1793, 1016, 3311, 2961, 2456, 2703, 4038],\n",
              " [2948, 2955, 181, 4600, 4660, 3200, 253, 1334, 1878, 2883, 1314],\n",
              " [3286, 4464, 4453, 1918, 2614, 448, 1822, 2300, 4227, 1878, 2883, 1314],\n",
              " [2642, 1642, 1933, 4952, 895, 3441, 1040, 2811],\n",
              " [2948, 2955, 3897, 4007, 1878, 2883, 1314],\n",
              " [3816, 1878, 3202, 3370, 2914, 4610, 3168, 1506, 383, 4272, 433, 3860, 776],\n",
              " [4721,\n",
              "  642,\n",
              "  2237,\n",
              "  101,\n",
              "  4762,\n",
              "  3065,\n",
              "  4217,\n",
              "  4713,\n",
              "  1062,\n",
              "  2413,\n",
              "  767,\n",
              "  1130,\n",
              "  1907,\n",
              "  900,\n",
              "  4096],\n",
              " [2955, 1206, 1432, 3009, 1723, 1263, 4931, 2951],\n",
              " [3930, 626, 2736, 4556],\n",
              " [1601, 1154, 1548, 2178, 3392, 4634, 1878, 2883, 1314],\n",
              " [4484, 1061, 3570, 4942, 2541, 2147, 3453],\n",
              " [2955, 1313, 3275, 4737, 2057, 2625, 1878, 2883, 1314],\n",
              " [2065, 2576, 2916, 2079, 3769, 3370, 2081, 2342],\n",
              " [4959, 1110, 1618, 2966, 1434, 4225, 2951],\n",
              " [2948, 2955, 2144, 3893, 3217],\n",
              " [2880, 2878, 2383, 4059, 4116, 3512, 2154, 3721, 3418],\n",
              " [3240, 1194, 3821, 4386, 4939, 4774, 3607, 2845, 1878, 2883, 1314],\n",
              " [4721, 926, 1062, 1729, 1736, 787, 936, 3815, 2981, 1745],\n",
              " [4127, 3673, 1803, 4866, 280, 143, 2361, 734, 1887, 1878, 2883, 1314],\n",
              " [2816, 4318, 2878, 4154, 3498, 1521, 435, 4160, 1878, 2883, 1314],\n",
              " [3545, 424, 4361, 1072, 1745, 2955],\n",
              " [1980,\n",
              "  2805,\n",
              "  4346,\n",
              "  3282,\n",
              "  4301,\n",
              "  2151,\n",
              "  3794,\n",
              "  318,\n",
              "  427,\n",
              "  1399,\n",
              "  3853,\n",
              "  96,\n",
              "  81,\n",
              "  4845],\n",
              " [160, 383, 2273, 3612, 4272, 1878, 2883, 1314],\n",
              " [2735, 1351, 2545, 254, 4024, 4704, 1313, 1878, 2883, 1314],\n",
              " [4924, 3614, 1376, 1178, 61, 2878, 2955],\n",
              " [864, 3426, 1188, 1560, 1521, 4923, 1878, 2883, 1314],\n",
              " [3910, 2932, 1246, 2713, 2314, 1062, 118, 1734],\n",
              " [1201, 1790, 3607, 966, 3854, 2762, 2023, 1878, 2883, 1314],\n",
              " [864, 1323, 3822, 3446, 1560, 1924, 15, 3637, 1878, 2883, 1314],\n",
              " [1572,\n",
              "  2688,\n",
              "  3056,\n",
              "  2091,\n",
              "  2802,\n",
              "  2695,\n",
              "  3544,\n",
              "  1572,\n",
              "  3317,\n",
              "  2091,\n",
              "  2802,\n",
              "  2653,\n",
              "  1000,\n",
              "  2826],\n",
              " [2955, 3477, 1745, 2582, 1878, 3986, 631, 3546, 1878, 2883, 1314],\n",
              " [383, 1010, 1217, 1178, 4732, 788, 1878, 2883, 1314],\n",
              " [383, 2004, 3447, 1169, 1006, 1313, 808, 1878, 2883, 4713, 4285],\n",
              " [2387, 1693, 3558, 1726, 4333],\n",
              " [1471, 1729, 1736, 2405, 2379, 4600, 3846, 642, 3686],\n",
              " [2064, 3717, 1521, 1900, 1584, 1878, 2883, 1314],\n",
              " [4131,\n",
              "  4232,\n",
              "  1729,\n",
              "  4263,\n",
              "  1947,\n",
              "  3240,\n",
              "  1947,\n",
              "  3953,\n",
              "  1729,\n",
              "  2955,\n",
              "  4598,\n",
              "  787,\n",
              "  2181,\n",
              "  3444,\n",
              "  1627],\n",
              " [1023, 1194, 3627, 4499, 3352, 2331, 745, 1878, 2883, 1314],\n",
              " [3529, 1023, 411, 2712, 3108, 3935, 1745, 3457, 2951],\n",
              " [1145, 3544, 1271, 1878, 470, 2955, 3116, 1878, 2883, 1314],\n",
              " [3826, 334, 2310, 3599, 2598, 1072, 1548, 2951],\n",
              " [4565, 3063, 3731, 3512, 1505, 3740, 1878, 2883, 1314],\n",
              " [3282, 87],\n",
              " [3602, 623, 383, 607, 1913, 3781, 4275, 3409, 3513, 1878, 2883, 1314],\n",
              " [2955, 1064, 1506, 162, 3318, 563, 1051, 1878, 2883, 1314],\n",
              " [2659, 1642, 4617, 2650, 3981, 4349, 4064, 4104, 264, 2951],\n",
              " [1204, 4208, 2466, 3192, 784, 1126, 361, 581, 1783, 1110, 4713],\n",
              " [3826, 1432, 4318, 1323, 472, 3389, 436, 2415, 318, 2951],\n",
              " [788, 113, 2057, 3855, 1835, 997, 3216, 2252],\n",
              " [4757],\n",
              " [96, 1009, 2604, 3546, 2830, 394, 1654, 1878, 2883, 1314],\n",
              " [2955, 2132, 719, 1151, 2764, 2774, 1878, 2883, 1314],\n",
              " [2433, 1825, 1785, 3011, 253],\n",
              " [2695, 21, 998, 1117, 2163, 3056, 2953, 4803, 2532, 1117, 2163, 3056, 2953],\n",
              " [3598, 696, 4386, 40, 1329, 1878, 2883, 1314],\n",
              " [47, 3498, 3162, 2948, 2955, 1878, 1539, 3177, 1878, 2883, 1314],\n",
              " [3049, 1432, 1796, 3355, 2948, 2955, 3841, 3616, 1878, 2883, 1314],\n",
              " [191, 1757, 786, 299, 4146, 4618, 1878, 2883, 1314],\n",
              " [4186, 2565, 383, 696, 4641, 1803, 3308],\n",
              " [29, 2834, 4126, 3630, 2736, 3781],\n",
              " [4742, 703, 1680, 4582, 2498, 277, 3301, 1793, 1314, 1878, 2883, 1314],\n",
              " [1633, 2391, 4487, 3186, 1878, 4454, 4520, 2951],\n",
              " [2955, 4355, 3849, 3886, 2608, 995, 206, 4138, 758, 1878, 2883, 1314],\n",
              " [2580,\n",
              "  4453,\n",
              "  1819,\n",
              "  1763,\n",
              "  1092,\n",
              "  4106,\n",
              "  1194,\n",
              "  3116,\n",
              "  1649,\n",
              "  2320,\n",
              "  2271,\n",
              "  1825,\n",
              "  2951],\n",
              " [3950, 2388, 1018, 348, 1138, 97, 1878, 2883, 1314],\n",
              " [3715, 1262, 3815, 3216, 2279, 2671, 1287],\n",
              " [1210, 784, 1629, 1642, 3637, 1878, 2883, 1314],\n",
              " [255, 609, 3721, 1915, 4824, 2835, 2951],\n",
              " [4845, 2993, 788],\n",
              " [1854, 1755, 2064, 1975, 382, 3197, 4967, 100, 1985],\n",
              " [3370, 4610, 2583, 2234, 2730, 3889, 1571, 3630, 3065, 1825, 3731],\n",
              " [3596, 1620, 363, 1367, 3648, 2450, 2955, 1835],\n",
              " [1169, 3294, 142, 284, 241, 2283, 2834, 2955, 3319, 2951],\n",
              " [1584, 513, 4631, 1856, 2955, 3853, 3162],\n",
              " [187, 1834, 3401, 4191, 3622, 4152, 2951],\n",
              " [563,\n",
              "  4225,\n",
              "  294,\n",
              "  3471,\n",
              "  2924,\n",
              "  4113,\n",
              "  3808,\n",
              "  563,\n",
              "  4225,\n",
              "  1325,\n",
              "  1669,\n",
              "  3546,\n",
              "  4474,\n",
              "  758],\n",
              " [1846, 4055, 3792, 3370],\n",
              " [2526, 571, 3988, 4827, 4011, 3646, 3454, 1878, 2883, 1314],\n",
              " [3216, 3653, 1161, 1664, 1878, 2883, 1314],\n",
              " [74, 3549, 1723, 4579, 2859, 4000, 1878, 2883, 1314],\n",
              " [382, 853, 1287, 2687, 4591, 1716, 2396, 1884, 1111, 783],\n",
              " [1545, 3409, 1302, 1091, 3853, 1151, 1878, 2883, 1314],\n",
              " [94, 2955, 574, 2352, 788, 383, 483, 4931, 3910, 2951],\n",
              " [2159, 696, 1670, 3853, 3847, 495],\n",
              " [3969, 3465, 1471, 1231, 3319, 4841, 3066, 2955],\n",
              " [783, 2720, 1131, 2955, 3814, 61, 3339, 4147, 1878, 2883, 1314],\n",
              " [2209, 2565, 1601, 2310, 3828, 4827, 2113, 4524, 1878, 2883, 1314],\n",
              " [2876, 2530, 1040, 1878, 2883, 1314],\n",
              " [965, 4495, 1884, 1057, 3131, 1878, 2883, 1314],\n",
              " [1314, 3308, 3691, 1878, 2883, 1314],\n",
              " [383, 3056, 2260, 537, 3867, 103, 3851, 4285, 3862, 1878, 2883, 1314],\n",
              " [2179, 2399, 2271, 1318, 617, 3282, 3389, 1703],\n",
              " [2593, 381, 513, 1482, 383, 3694, 2181, 2703],\n",
              " [2948, 1274, 959, 4250, 1557, 2797, 2521, 1878, 2883, 1314],\n",
              " [2955, 79, 908, 4929, 1736, 3401, 3008, 4577, 2951],\n",
              " [4129, 2834, 4380, 2846, 2617, 125],\n",
              " [3984, 2955, 1051, 483, 4782, 3893, 2611, 1878, 2883, 1314],\n",
              " [136, 2410, 3049, 3540, 3241, 1126, 205, 4160],\n",
              " [4126, 4203, 4757, 4318, 3944, 1878, 2883, 1314],\n",
              " [1903, 4351, 575, 3614, 2721, 4413, 1878, 2883, 1314],\n",
              " [1226, 1245, 3137, 2955, 4598, 3728, 4032],\n",
              " [3910, 2980, 4209, 1301, 706, 4521, 3986, 3537, 1878, 2883, 1314],\n",
              " [1161, 4054, 2955, 214, 4673, 1125, 1878, 2883, 1314],\n",
              " [2948, 2955, 2604, 3216, 4436, 3355],\n",
              " [2379, 537, 1933, 4952, 2130, 2145, 3721, 720, 1878, 2883, 1314],\n",
              " [2231, 2181, 1239, 382, 1200, 3597, 2192],\n",
              " [3389, 1008, 1952, 310, 4582, 1878, 2883, 1314],\n",
              " [2955, 3846, 622, 2057, 1038, 4126, 1878, 2883, 1314],\n",
              " [2415, 4230, 3102, 3644, 4929, 101, 3009, 3868],\n",
              " [299, 383, 253],\n",
              " [4931, 2034, 4310, 3304, 4169, 2933, 2317, 1878, 2883, 1314],\n",
              " [3980, 2330, 2874, 4660, 2695, 61, 2808, 3693, 723, 4953, 1246, 2951],\n",
              " [2948, 2955, 3185, 4560, 3870, 1265, 3137, 2084, 935, 4833, 1878, 2883, 1314],\n",
              " [3293, 2980, 3438, 4138, 1351, 1878, 2883, 1314],\n",
              " [3043, 1518, 3613, 4208, 2143, 1236, 1878, 2883, 1314],\n",
              " [2948,\n",
              "  2955,\n",
              "  1206,\n",
              "  3056,\n",
              "  687,\n",
              "  3370,\n",
              "  2065,\n",
              "  2376,\n",
              "  4523,\n",
              "  2271,\n",
              "  900,\n",
              "  2878,\n",
              "  2735,\n",
              "  1878,\n",
              "  2883,\n",
              "  1314],\n",
              " [611, 4996, 2955, 3418, 361, 3619, 1878, 2883, 1314],\n",
              " [31, 1887, 3639, 3355, 2081, 1376],\n",
              " [2955, 4610, 4211],\n",
              " [187, 2655, 3424, 3401, 3855, 1210, 2951],\n",
              " [4106, 1745, 2325, 1144, 919, 3018, 3331, 2955, 701, 3223, 200, 4820, 3937],\n",
              " [1572, 2404, 853, 3044, 2290, 1117, 154],\n",
              " [4255, 2029, 841, 1987, 291, 382],\n",
              " [1711, 4712, 2580, 1041, 3638],\n",
              " [745, 3551, 3903, 2794, 2566, 2145, 3596, 1283, 5, 4798, 1878, 2883, 1314],\n",
              " [4988, 3370, 2065, 2531, 2951],\n",
              " [856, 3492, 1008, 3503, 3079, 373, 1986, 3630, 4763],\n",
              " [1892, 2961, 1933, 581, 4887, 1267, 1954, 2220],\n",
              " [109, 1642, 2703, 3661],\n",
              " [4714, 1446, 4273, 3149, 3748, 3446, 3009, 448],\n",
              " [1795, 1342, 2598, 3287],\n",
              " [3655, 1471, 1803, 4610, 2825, 4720, 3899, 2552],\n",
              " [4749],\n",
              " [1558, 3340, 853, 1314, 2648, 596, 1878, 2883, 1314],\n",
              " [2955, 3415, 1062, 4909, 4169, 2081],\n",
              " [764, 1430, 4393, 1115, 4898, 1878, 2883, 1314],\n",
              " [4782, 1312, 3011, 2528, 1017, 4371, 2955, 734],\n",
              " [2834, 1262, 3815, 1539, 4673, 2955, 183],\n",
              " [1913, 4349, 799, 1725, 296, 2955, 94, 2951],\n",
              " [699, 413, 1064, 1364, 4246, 3497, 4715, 1051, 1878, 2883, 1314],\n",
              " [4464, 4013, 1693],\n",
              " [3563, 1302, 1484, 1670, 3162, 1878, 2883, 1314],\n",
              " [2614, 602, 3925, 1618, 2966, 2331, 2850, 433, 4586, 2951],\n",
              " [394, 3525, 2290, 2306, 3885, 98, 1948, 2388, 1878, 2883, 1314],\n",
              " [1803, 3370, 3041, 2835, 549, 4274, 2703],\n",
              " [330, 3192, 391, 135, 3461, 997, 2486, 2113, 1896, 2725, 3389],\n",
              " [3370, 2729, 3630, 799, 3769],\n",
              " [993, 3661, 2955, 4948, 4486, 387, 3376, 1878, 2883, 1314],\n",
              " [277, 2379, 795, 1474, 630, 3930, 1878, 2883, 1314],\n",
              " [2757, 993, 4177, 2926, 1907, 277],\n",
              " [808, 1612, 3619, 2816, 4660, 470, 4546, 1878, 2883, 1314],\n",
              " [623, 4208, 2816, 4586, 1755, 732, 732],\n",
              " [3557, 3862, 1125, 4315, 1154, 1670, 1878, 2883, 1314],\n",
              " [622, 1640, 3170, 1350, 622, 3508, 1852, 2094],\n",
              " [907, 1376, 3240, 3920, 1113, 4610, 270, 2735, 2498, 3930],\n",
              " [3630, 4956, 393, 2004, 39, 1383, 2951],\n",
              " [2322, 2912, 870, 4660, 853, 409, 3513, 1953, 1878, 2883, 1314],\n",
              " [427, 2647, 1332, 1616, 784, 729],\n",
              " [4776, 4307, 888, 2822, 3519, 481, 2937, 3596, 1855, 4763, 2951],\n",
              " [183, 1634, 2739, 1480, 376, 2472, 3324, 4251],\n",
              " [3216, 3873, 1312, 4032, 3920],\n",
              " [2955, 3607, 2845, 1723, 1835, 2780, 1803, 4138, 3528, 1878, 2883, 1314],\n",
              " [1458, 456, 3381, 2955, 3158, 2609, 3216, 3920, 2951],\n",
              " [646, 4819, 3355, 2955],\n",
              " [4233, 1393, 383, 3910, 2864, 3398, 284],\n",
              " [3296, 112, 3401, 121, 3058, 499, 2994, 900, 4126],\n",
              " [2610, 2585, 4715, 483, 2955, 44],\n",
              " [1803, 609, 2948, 2955, 2306, 4689, 2882, 1031, 568, 1855, 1878, 2883, 1314],\n",
              " [3389,\n",
              "  2328,\n",
              "  1855,\n",
              "  1736,\n",
              "  2322,\n",
              "  3418,\n",
              "  2272,\n",
              "  4828,\n",
              "  3377,\n",
              "  3760,\n",
              "  1878,\n",
              "  2883,\n",
              "  1314],\n",
              " [103, 1612, 434, 3539, 3539, 3539, 1878, 2883, 1314],\n",
              " [505, 1133, 1105, 2510, 1736, 1023, 1927, 1518],\n",
              " [3370, 3237, 4600, 1471, 3370, 1351, 2889, 4268, 1349],\n",
              " [3501, 3597, 348, 1948, 4898, 1878, 2883, 1314],\n",
              " [3049, 2255, 4240, 4083, 383, 1463, 4509, 3569, 1878, 2883, 1314],\n",
              " [2955, 2428, 2307, 2974, 383, 2612, 3666, 4225, 3379, 1158, 2074, 1178, 2951],\n",
              " [4556, 1189, 4656, 318, 216, 419],\n",
              " [1245, 3479, 1726, 3716, 1997, 3370, 4146, 1851],\n",
              " [2373, 3484, 3053, 4763, 2667, 1878, 2883, 1314],\n",
              " [2946, 762, 4956, 2827, 2248, 4279, 2955, 142, 2951],\n",
              " [118, 3590, 4349, 2450, 2887, 3914, 767, 2955, 1878, 2883, 1314],\n",
              " [3260, 2777, 1670, 1473, 2786, 1878, 2883, 1314],\n",
              " [4956, 2378, 2065, 3769, 1178, 4055, 2352, 1242, 1878, 2883, 1314],\n",
              " [600, 3907, 383, 3240, 1590, 1302, 1960, 4656, 8, 568, 4669, 654],\n",
              " [1512, 2384, 1860, 1260, 3815, 1559, 3027, 1878, 2883, 1314],\n",
              " [1312, 4779, 2379, 4633, 4772, 2597],\n",
              " [1855, 4824, 4333, 319, 2310, 1920],\n",
              " [730,\n",
              "  1218,\n",
              "  1878,\n",
              "  2883,\n",
              "  1314,\n",
              "  1835,\n",
              "  1342,\n",
              "  1745,\n",
              "  1193,\n",
              "  4595,\n",
              "  3197,\n",
              "  4542,\n",
              "  1093,\n",
              "  1878,\n",
              "  2883,\n",
              "  1314],\n",
              " [3635, 3264, 482, 1539, 2065, 2920, 2948, 2955, 734, 2951],\n",
              " [1075, 2561, 1803, 4228, 59, 2151, 3868, 3303, 3534, 2585, 2951],\n",
              " [2969, 4278, 4456, 4782, 1878, 2883, 1314],\n",
              " [3617, 2580, 1747, 2944, 4956, 2729, 112],\n",
              " [1558,\n",
              "  458,\n",
              "  3068,\n",
              "  4864,\n",
              "  4272,\n",
              "  227,\n",
              "  2233,\n",
              "  3384,\n",
              "  2306,\n",
              "  1854,\n",
              "  3137,\n",
              "  530,\n",
              "  1927,\n",
              "  4251],\n",
              " [1312, 466, 4952, 3549, 791, 2764, 2379, 1062, 1878, 2883, 1314],\n",
              " [4721, 2825, 3085, 2547, 2955, 853, 1887, 1584, 3558, 1154, 2951],\n",
              " [2600, 1313, 2094, 277, 483, 4240, 109, 2951],\n",
              " [2209, 3182, 2229, 1283, 2744, 3794, 3497, 2270],\n",
              " [2811, 2378, 3808, 17, 2548, 419, 1485],\n",
              " [1747, 3923, 1450, 3370, 1351, 1332, 4318, 1332, 3216],\n",
              " [594, 3646, 4560, 1879, 1878, 4887, 1313, 1878, 2883, 1314],\n",
              " [1342, 4600, 3202, 2855, 4304, 1729, 1736, 2379, 3688],\n",
              " [4138, 1351, 4586, 696, 206, 4959, 3781, 2951],\n",
              " [3102, 4956, 3662, 4498, 4660, 3008, 295, 3781, 2951],\n",
              " [3860, 1611, 1916, 3198, 1357, 696, 1548, 4833, 36, 3686],\n",
              " [2065, 4610, 2491, 3049, 2325, 2776, 4447, 3053, 2597, 938, 3188, 779],\n",
              " [1803, 58, 4011, 3898, 4468, 2955, 1878, 2883, 1314],\n",
              " [4903, 2181, 3431, 230, 1521, 1274, 751, 1878, 2883, 1314],\n",
              " [166, 4113, 1326, 2270, 1057, 1761, 4453, 2320, 3076],\n",
              " [1561, 2143, 2018, 2763, 2769],\n",
              " [2494, 2955, 98, 995, 3867, 3104, 4959, 2951],\n",
              " [2597, 2969, 1314, 1723, 1878, 2883, 1314],\n",
              " [1072, 1745, 96, 642, 1855, 1927, 2946, 3382, 1571, 1233, 4845],\n",
              " [2057, 2292, 1406, 719, 55, 1612, 3619, 1878, 2883, 1314],\n",
              " [4985, 2259, 1726, 2004, 2638, 3473, 2951],\n",
              " [788, 3468, 3471, 1318, 2955, 3610, 2951],\n",
              " [2955, 4598, 4154, 121],\n",
              " [87, 3216, 775, 4939, 2617, 1878, 2883, 1314],\n",
              " [1803, 2776, 296, 4043, 1549, 516, 1062, 4988, 4822, 1878, 2883, 1314],\n",
              " [1878, 3599, 4208, 431, 5, 2803, 2130, 558, 3649, 1878, 2883, 1314],\n",
              " [4097, 609, 1313, 2870, 3439, 1318, 1204, 2558, 2951],\n",
              " [3178, 1261, 1509, 1200, 389, 1326],\n",
              " [36, 1642, 1878, 2883, 1314],\n",
              " [4351, 4086, 1803, 4083, 1037, 96, 4131, 3015],\n",
              " [4528, 1369, 36, 2118, 595, 2496, 4376, 2644, 2576, 2951],\n",
              " [1205, 2547, 391, 3658, 1878, 2883, 1314],\n",
              " [3452, 2825, 1710, 2955, 4320, 3740, 1854, 1376, 1627, 1202, 2970, 135, 2951],\n",
              " [3691, 4772, 2940, 4275, 4772, 639, 924, 4772],\n",
              " [1954, 254, 642, 1584, 2764, 3435, 1312, 1878, 2883, 1314],\n",
              " [3583, 4709, 2906, 564, 775, 758],\n",
              " [2079, 58, 4595, 513, 607, 2768, 2667, 671, 3275],\n",
              " [3748, 1342, 2598, 3287],\n",
              " [2955, 2177, 3150, 1723, 1164, 2617, 470, 2951],\n",
              " [2955, 2621, 2307, 3638, 4139, 1318, 1405, 1082, 1878, 2883, 1314],\n",
              " [2582, 4557, 1357, 696, 1842, 3935, 1745, 2951],\n",
              " [4880, 4419, 723, 3464, 1176, 1839, 4208],\n",
              " [1803, 3370, 2065, 4228, 61, 1297, 3900, 1558],\n",
              " [3343, 387],\n",
              " [2665, 1827, 4573, 1572, 2947, 1117, 978],\n",
              " [4867, 516, 483, 2570, 2182, 1323, 3740, 1878, 2883, 1314],\n",
              " [4232, 2164, 3294, 3637, 216, 3672, 419, 1878, 2883, 1314],\n",
              " [3694, 3279, 4349, 2955, 3116, 3025, 3585, 1125, 1573, 4682],\n",
              " [2826, 1322, 2742, 2650, 277, 4707, 254, 2742, 1727, 1195],\n",
              " [3904, 2456, 3617, 4057, 2465, 1349, 4582, 1878, 2883, 1314],\n",
              " [622, 4280, 444, 1450, 1197, 1558, 3888, 3283, 2480, 3991, 383, 2993],\n",
              " [3914],\n",
              " [1584, 1854, 4386, 1450, 3301, 2208, 2703, 1204, 1178, 2951],\n",
              " [1784,\n",
              "  3166,\n",
              "  2598,\n",
              "  519,\n",
              "  2084,\n",
              "  3792,\n",
              "  585,\n",
              "  383,\n",
              "  3446,\n",
              "  1163,\n",
              "  706,\n",
              "  1878,\n",
              "  2114,\n",
              "  2065],\n",
              " [1584, 1854, 4826, 958, 4457, 2406, 4919, 462, 1664, 4349],\n",
              " [448, 382, 1105, 3867, 273, 956, 4211, 905, 1986],\n",
              " [4931, 2868, 1318, 4349, 2580, 2113],\n",
              " [1878, 436, 758, 4199, 853, 1820, 3108, 2874],\n",
              " [3822, 2308, 3954, 4081, 215, 1760, 2754, 4620, 3428, 2951],\n",
              " [2066, 680, 489, 1272],\n",
              " [2364, 3189, 4947, 2320, 3556, 4830, 385, 1878, 2883, 1314],\n",
              " [1500, 1189, 3246, 147, 1183, 3408, 2789, 1878, 2883, 1314],\n",
              " [1679, 740, 253, 3068, 4712, 2582],\n",
              " [3658, 1878, 2883, 1314],\n",
              " [2379, 3808, 3656, 766, 4131, 947],\n",
              " [2614, 602, 2248, 7, 873, 1001, 1705, 4888, 594, 24, 1828],\n",
              " [2181, 4005, 1051, 616, 383, 985, 4602],\n",
              " [2281, 2696, 3512, 3287, 2280, 1878, 2883, 1314],\n",
              " [3370, 2065, 1098, 4556, 2095, 2641, 799, 4462, 393],\n",
              " [109, 422, 362, 1301, 2933, 4896, 1878, 2883, 1314],\n",
              " [4873, 4272, 294, 4706, 3944],\n",
              " [483, 1734, 4086, 383, 3587, 4949, 3910],\n",
              " [1242, 325, 1117, 2159, 2107, 4081, 354, 1144, 3821, 1878, 2883, 1314],\n",
              " [383, 1010, 1217, 1735, 462, 4529, 1308, 580],\n",
              " [2794, 4252, 3346, 3493, 2868, 3079, 3473, 1878, 2883, 1314],\n",
              " [4829, 682, 1119, 2378, 4556, 997, 1642, 682, 2776, 2951],\n",
              " [3868, 446, 243, 2200, 2081, 2352, 4942, 3458, 667, 2053],\n",
              " [4458, 988, 4566, 1803, 2955, 2376, 4111, 1955, 1922],\n",
              " [3401, 3891, 4405, 2492, 4272, 1525, 3838, 2306, 1878, 2883, 1314],\n",
              " [784, 2290, 732, 568, 3239, 1650, 3900, 3930],\n",
              " [2598, 1695, 433, 4644, 383, 4184, 2951],\n",
              " [4892, 2816, 90, 1878, 2883, 1314],\n",
              " [2467, 873, 3177, 103, 3674, 2516, 1609, 2951],\n",
              " [4124, 2658, 1515, 1878, 2883, 1314],\n",
              " [383, 4939, 1313, 1734, 4280, 3453, 3910, 382, 4272, 1057, 330, 2528],\n",
              " [1878, 2065, 3769, 1262, 3208, 1233, 1884, 2641, 799],\n",
              " [1418, 2608, 1313, 3873, 2409, 2179, 853, 3234, 1878, 2883, 1314],\n",
              " [310, 3930, 1878, 2883, 1314],\n",
              " [3330, 1820, 1854, 4841, 1878, 2883, 1314],\n",
              " [4522, 1803, 824, 1206, 1349, 2609, 2951],\n",
              " [2113, 3815, 1179, 2100, 3650, 1878, 4130, 1062, 1878, 2883, 1314],\n",
              " [1125, 109, 3512, 3658, 1878, 2883, 1314],\n",
              " [1275, 2463, 2385, 1692, 1373, 1878, 2883, 1314],\n",
              " [4131, 3375, 2955, 435, 1207, 446, 1878, 2883, 1314],\n",
              " [2625,\n",
              "  2113,\n",
              "  1825,\n",
              "  983,\n",
              "  3853,\n",
              "  2271,\n",
              "  2379,\n",
              "  2961,\n",
              "  4444,\n",
              "  4785,\n",
              "  2238,\n",
              "  2826,\n",
              "  4753,\n",
              "  166],\n",
              " [277, 4556, 2530, 635, 1376, 3994, 1887, 2951],\n",
              " [2642, 4524, 3691, 2826, 1178, 1201, 1351, 1878, 2883, 1314],\n",
              " [4556, 1189, 1618, 4066, 4649, 1933],\n",
              " [3053, 2597, 4823, 2325, 3769, 3166, 1133, 1582, 2739],\n",
              " [2948, 2955, 4934, 3203, 2789, 3473, 3355, 4346, 4208, 1878, 2883, 1314],\n",
              " [1536, 719, 193, 3444, 3426, 383, 1194, 2290, 4254, 253],\n",
              " [3549, 905, 4208, 2644, 3815, 3207, 2185],\n",
              " [2379, 398, 3269, 1489, 1175, 3399, 4542, 382, 2554, 1670, 4355, 2951],\n",
              " [3123, 1729, 1736, 3122, 2346, 1299, 2122, 4143],\n",
              " [3899, 3888, 3283, 2811, 2830, 2993, 4366, 4208, 3725, 2113],\n",
              " [3370, 719, 2948, 2955, 483, 2848, 393],\n",
              " [1788, 2955, 3457, 4978, 1485, 2004, 3352, 4925, 2955, 2951],\n",
              " [4412, 591, 867, 762, 2354, 4631, 2260, 2045, 3152, 1878, 2883, 1314],\n",
              " [2955, 2084, 2771, 4547, 3401, 571, 3700, 1495, 1869, 1878, 2883, 1314],\n",
              " [2948, 2955, 1000, 336, 1648, 4305, 1117, 3505, 3819, 3929],\n",
              " [644, 4153, 4938, 1598, 2718, 3873],\n",
              " [3910, 383, 1640, 935, 4088, 1349, 3203, 2085, 3062],\n",
              " [1405, 1061, 3637, 2094, 2210, 4154],\n",
              " [4752, 2816, 1152, 4349, 2980, 783, 1878, 2883, 1314],\n",
              " [318, 4086, 59, 1736, 4100, 3646, 3102, 4243, 696],\n",
              " [4829, 2994, 295, 1803, 2330, 512, 580, 2094],\n",
              " [4992, 862, 4252, 814, 295, 3294, 1878, 2883, 1314],\n",
              " [3714, 103, 4916, 3398, 4098, 649, 943, 2878, 1960],\n",
              " [3827, 824, 197, 206, 3356, 3402, 879, 3569, 3370, 2065, 3944, 1426, 253],\n",
              " [61, 607, 1263, 3653, 277, 3920, 230, 1878, 2883, 1314],\n",
              " [1831, 4086, 2210, 2185, 2065, 3856],\n",
              " [2955, 2084, 1708, 4425, 4776, 1167, 3415, 1878, 2883, 1314],\n",
              " [3866, 198],\n",
              " [2955, 3722, 4253, 1274, 1950, 1855, 3613, 4920, 3311, 3646, 1320, 854, 183],\n",
              " [3721, 4034, 2379, 3549, 2725],\n",
              " [1584, 4505, 4617, 3816, 183],\n",
              " [3512, 1861, 2703, 1741, 1854, 3966, 4081],\n",
              " [2625,\n",
              "  666,\n",
              "  3268,\n",
              "  1445,\n",
              "  2559,\n",
              "  1312,\n",
              "  1702,\n",
              "  4243,\n",
              "  4559,\n",
              "  666,\n",
              "  3268,\n",
              "  1445,\n",
              "  2559,\n",
              "  1312,\n",
              "  1702,\n",
              "  4243,\n",
              "  4559,\n",
              "  1878,\n",
              "  4939,\n",
              "  2582],\n",
              " [858, 4272, 3986, 121, 2962],\n",
              " [250, 505, 2343, 4660, 4493, 3686],\n",
              " [1584, 4931, 4173, 2080, 2657, 4199, 3008, 3016, 3930, 3661, 4772, 253],\n",
              " [3056, 4495, 2948, 2955, 1504, 4088, 1887, 154, 1878, 2883, 1314],\n",
              " [4721, 4570, 2675, 4548, 1062, 2048, 3492, 2546, 809, 4113, 3396, 2951],\n",
              " [3457, 4556, 504, 1732, 1670],\n",
              " [3693,\n",
              "  2837,\n",
              "  1803,\n",
              "  1251,\n",
              "  1887,\n",
              "  1803,\n",
              "  3389,\n",
              "  2828,\n",
              "  4466,\n",
              "  4333,\n",
              "  1327,\n",
              "  3727,\n",
              "  2232,\n",
              "  230,\n",
              "  2149,\n",
              "  183],\n",
              " [1053, 4, 1855, 3899],\n",
              " [265, 470, 3551, 2065, 1349, 4208, 2306],\n",
              " [2955, 2757, 3038, 1125, 1878, 2114, 2065],\n",
              " [563, 2075, 791, 1051, 2065, 2955, 4689, 2765, 1878, 2883, 1314],\n",
              " [1512, 4845, 3216, 4537, 893, 4531, 2510, 1878, 2883, 1314],\n",
              " [853, 4832, 2071, 3951, 3180, 1312, 910, 1233, 579, 3376],\n",
              " [2521, 3986, 4013, 1037, 96, 4131, 3610],\n",
              " [319, 1144, 2113, 4014, 1071, 3102, 3841, 3401, 1037],\n",
              " [1649, 2179, 3210, 2881, 4708, 947, 291, 3808, 3803, 3279, 2951],\n",
              " [3980, 2933, 2264, 354, 2089, 788],\n",
              " [2450, 1133, 4305, 2186, 205, 2081, 3137],\n",
              " [186, 3396, 1995, 1091, 4952, 4881, 666, 3616],\n",
              " [4519, 2955, 3319, 1048, 1139, 1878, 2883, 1314],\n",
              " [2231, 1642, 4655, 2968, 2742, 568, 1455, 3691, 2027, 3091, 1518, 1342, 3200],\n",
              " [2559, 3039, 814, 2955, 3638, 127, 4887, 4555],\n",
              " [1734, 997, 2955, 3742, 4279, 3326, 2396, 432, 2926],\n",
              " [2145, 704, 321, 1151, 2695, 580, 475, 3135, 2480, 1878, 2883, 1314],\n",
              " [4938, 4921, 4296, 4113, 1884, 1776, 265, 2699, 1506, 1878, 2883, 1314],\n",
              " [4556, 1189, 4736, 913, 3385, 4776, 422, 104, 4122, 1093],\n",
              " [1471,\n",
              "  4116,\n",
              "  4208,\n",
              "  1430,\n",
              "  2081,\n",
              "  4051,\n",
              "  101,\n",
              "  4797,\n",
              "  787,\n",
              "  3806,\n",
              "  2955,\n",
              "  101,\n",
              "  3009,\n",
              "  2951],\n",
              " [748, 4100, 2741, 1251, 1133, 3319],\n",
              " [3283, 1878, 2883, 2379, 2502, 2855, 4887, 1313, 1878, 2883, 1314],\n",
              " [2955, 2080, 2946, 1377, 1901, 82, 1878, 183, 3534, 2379, 4043],\n",
              " [3240, 1922, 1145, 200, 3434, 1904, 1546, 3694, 1878, 2883, 1314],\n",
              " [3454, 2955, 617, 1734, 4475, 3930, 853, 3783, 665, 2951],\n",
              " [118, 1734, 987, 2994, 2509, 3294, 812, 382, 3937, 118, 1734],\n",
              " [1913, 3886, 2582, 2840, 4366, 3512, 1139, 2951],\n",
              " [3930, 4378, 205, 101],\n",
              " [2391,\n",
              "  2742,\n",
              "  745,\n",
              "  1008,\n",
              "  3714,\n",
              "  2975,\n",
              "  1669,\n",
              "  4820,\n",
              "  3192,\n",
              "  4484,\n",
              "  2085,\n",
              "  579,\n",
              "  483,\n",
              "  1062,\n",
              "  2951],\n",
              " [314, 762, 1715, 183, 2650, 2914, 3129, 1878, 2883, 1314],\n",
              " [2275, 1067, 1634, 1527, 3377, 1726, 3131, 1394, 1764],\n",
              " [2325, 3724, 4318, 4353, 3769],\n",
              " [3376, 4893, 808, 3261, 3986, 3287],\n",
              " [4131, 4232, 1729, 4131, 4536, 2940, 3370, 3127, 2955, 1729, 1835],\n",
              " [4656, 785, 1482, 3306, 2182, 4887, 1746, 1473, 1640, 183],\n",
              " [3370, 2065, 2066, 2920, 985, 4170, 2920, 1333, 4600, 1878, 2883, 1314],\n",
              " [383, 4055, 3135, 2246, 2856, 594, 2306, 2163],\n",
              " [3672, 1287, 158, 2047, 1825, 2803, 2751, 253, 1887, 2974],\n",
              " [2364, 391, 3662, 3781, 2604, 3111, 728, 784, 3063, 2173, 2260, 2951],\n",
              " [59, 2151, 2130, 191, 4085, 2080, 1878, 2883, 1314],\n",
              " [1332, 2955, 1312, 4122, 1330, 3011],\n",
              " [4586, 2065, 991, 3439, 3088, 3370, 3716],\n",
              " [3910,\n",
              "  96,\n",
              "  3544,\n",
              "  642,\n",
              "  852,\n",
              "  2439,\n",
              "  4495,\n",
              "  1012,\n",
              "  3044,\n",
              "  1568,\n",
              "  3827,\n",
              "  3195,\n",
              "  2135,\n",
              "  4496,\n",
              "  3656],\n",
              " [3393, 3131, 1403, 3340, 3217, 1164, 2391, 1878, 2883, 1314],\n",
              " [277, 2955, 1064, 1958, 3102, 688, 4318, 3068, 2951],\n",
              " [4586, 2065, 4384, 1357, 1163, 1494, 3216, 352, 2843, 1803, 4556],\n",
              " [3698, 2413, 767, 4199, 2115, 1133, 4956, 1698, 1041],\n",
              " [3080, 2955, 985, 1887],\n",
              " [2391, 1871, 3250, 150, 3851, 2697, 4349, 3245, 1878, 2883, 1314],\n",
              " [2361, 2996, 1396, 1274, 3742, 2275, 1610, 3993, 1878, 2883, 1314],\n",
              " [1555, 3401, 2166, 3272, 741, 3058, 2951],\n",
              " [2697, 4273, 2604, 1405, 4126, 3589, 1855, 1816, 1878, 2883, 1314],\n",
              " [1393, 3300, 2955, 2080, 1166, 2068, 880, 4031, 4964],\n",
              " [1318, 1125, 2955, 1061, 2253, 2046, 1318, 2364, 391, 3184],\n",
              " [1106, 496, 1604, 2124],\n",
              " [2955, 2431, 3131, 97, 3935, 2582, 2081, 1927, 2951],\n",
              " [3240, 1922, 2345, 427, 659, 4537, 2177, 4832, 1878, 2883, 1314],\n",
              " [3275, 2186, 150, 775, 1093, 4455, 1878, 2883, 1314],\n",
              " [4498, 2042, 1133, 154, 4116, 4412, 1878, 2883, 1314],\n",
              " [2816, 617, 2392, 1521, 3638, 537, 4127, 383, 1571, 1878, 2883, 1314],\n",
              " [1312, 3263, 1332, 1604, 1933, 254, 1324, 234, 1878, 2883, 1314],\n",
              " [3189, 2431, 96, 1768, 4110, 3910, 382, 2319, 1878, 2883, 1314],\n",
              " [3981, 4960, 3136, 700, 1145, 2209, 3994, 3216, 2746],\n",
              " [2948, 2955, 1803, 4662, 2879, 3619, 1878, 2883, 1314],\n",
              " [],\n",
              " [1091, 332, 3216, 3920, 135, 857],\n",
              " [4768, 4728, 1566, 4888, 3583, 4619, 4823, 3882, 2210],\n",
              " [2521, 4523, 2878, 1878, 4556],\n",
              " [2625, 2379, 4100, 3200, 2437, 3370, 4824, 2113, 114],\n",
              " [319, 1144, 546, 3167, 1668, 2364, 391, 3370, 2065],\n",
              " [2955, 1983, 595, 4833, 4208, 1878, 2883, 1314],\n",
              " [3449, 1565, 1189, 3650, 2955, 309, 4318, 1506, 1854],\n",
              " [3306, 2621, 4776, 2768, 4138, 2275, 2772, 1878, 2883, 1314],\n",
              " [709, 3137, 1061, 3539, 3693, 2951],\n",
              " [2081, 1376, 3685, 101, 4318],\n",
              " [1421, 4346, 1506, 4335, 2876, 1421, 719, 4744, 821, 807, 2412, 3508, 2456],\n",
              " [699, 3912, 1773, 1878, 2883, 1314],\n",
              " [2531, 2659, 2772, 1480, 1878, 2883, 1314],\n",
              " [1572,\n",
              "  1494,\n",
              "  3994,\n",
              "  1117,\n",
              "  4549,\n",
              "  3593,\n",
              "  4637,\n",
              "  4803,\n",
              "  4175,\n",
              "  172,\n",
              "  1831,\n",
              "  4484,\n",
              "  2582,\n",
              "  1117,\n",
              "  306,\n",
              "  4849,\n",
              "  3505,\n",
              "  3015],\n",
              " [142, 1835, 3678, 1818, 470, 1736, 2631, 1406, 3853, 4201, 2951],\n",
              " [3468, 3139, 3148, 2764, 2774, 4260, 113, 2951],\n",
              " [1051, 3910, 298, 4179, 2643, 4204, 2084, 4032, 3597, 2113, 1896],\n",
              " [3172, 565, 3558, 2216, 1883, 3428, 3063, 4660, 3670, 2736, 824, 4349, 2951],\n",
              " [3577, 492, 103, 4637, 206, 1689, 1218, 617, 2940],\n",
              " [1302, 3217, 3544, 3089, 3174, 3032, 383, 4113, 3264, 4681, 3920, 2951],\n",
              " [3197, 1460, 3612, 382, 1642, 2388],\n",
              " [3070, 4604, 4922, 830, 1584, 4040, 4389, 4146, 4660, 2951],\n",
              " [472, 4163, 3920, 4058, 4208, 4691, 2952],\n",
              " [264, 3591, 382, 3853, 1878, 2883, 1314],\n",
              " [119, 2948, 2955, 21, 1522, 1500, 3619, 1878, 2883, 1314],\n",
              " [4464, 3370],\n",
              " [1360, 4489, 2080, 3210, 2553, 1878, 2883, 1314],\n",
              " [2625, 3013, 2530, 588, 836],\n",
              " [784, 2065, 3102, 3376],\n",
              " [3240, 1748, 3781, 1210, 3815, 2955, 1878, 2883, 1314],\n",
              " [3607, 3544, 4556, 1189, 2707, 1154, 1878, 2883, 1314],\n",
              " [3370, 2065, 2467, 787, 807, 1878, 2883, 1314],\n",
              " [3431, 1288, 3000, 3759, 4013, 653, 4124],\n",
              " [2955, 3558, 1618, 1911, 243],\n",
              " [3370, 4689, 2957, 4845, 4237, 3853, 4147, 2652, 622],\n",
              " [3368, 3311, 4013, 3116, 4179, 1878, 2883, 1314],\n",
              " [1861, 558, 108, 1191, 554, 1878, 2883, 1314],\n",
              " [2955, 3686, 2110, 1145, 2076, 2618, 1878, 2883, 1314],\n",
              " [1512, 4400, 3943, 291, 436, 4953, 1136, 1845, 1878, 2883, 1314],\n",
              " [2000, 1240, 3401, 571, 1251, 3994, 466, 2598, 853, 1878, 2883, 1314],\n",
              " [4169, 2955, 3348, 444, 3352, 951, 2897, 2951],\n",
              " [4560, 3630, 2065, 3769, 3731, 841, 3042, 785, 2389, 2955, 1260],\n",
              " [3821, 1494, 1331, 1406, 4487],\n",
              " [2057, 3967, 3178, 758, 4960, 2980, 758, 1755, 2736, 2951],\n",
              " [140, 4208, 83, 4386, 3200, 253, 4956, 4005, 1950],\n",
              " [3036, 3135, 3613, 704, 2703, 3194, 1510],\n",
              " [54, 1855, 2306, 2952, 258, 4802, 1226, 1878, 2883, 1314],\n",
              " [1754, 1399, 119, 383, 1036, 253],\n",
              " [2955, 3181, 817, 1349, 277, 4556, 2095, 2980, 2185],\n",
              " [1432, 2955, 1313, 1548, 591, 3853, 1929, 2951],\n",
              " [4622, 1887, 277, 4677, 2429, 1664, 4349, 3930, 4318, 2948, 2955],\n",
              " [3569, 2310, 253],\n",
              " [],\n",
              " [2521, 3986, 4013, 3856, 1037, 96, 4131, 3610],\n",
              " [783, 3036, 5, 4798, 700, 3141, 1913, 4386],\n",
              " [198, 2415, 1342, 3052, 3880, 409, 3449, 4763, 2248],\n",
              " [1506, 3589, 3370, 2065, 4055],\n",
              " [748, 504, 900, 4051, 4285, 2306],\n",
              " [253, 2443, 2097, 1878, 4276],\n",
              " [3370, 607, 4566, 1803, 1274],\n",
              " [3494,\n",
              "  3708,\n",
              "  1152,\n",
              "  3293,\n",
              "  4283,\n",
              "  3864,\n",
              "  3200,\n",
              "  2697,\n",
              "  1233,\n",
              "  496,\n",
              "  3428,\n",
              "  1878,\n",
              "  2883,\n",
              "  1314],\n",
              " [2625, 44, 4011, 375, 1170, 3516, 44, 4011, 375, 1170, 3516, 2867, 474, 558],\n",
              " [2948, 2955, 2094, 1184, 4034, 1500, 3619, 1878, 2883, 1314],\n",
              " [3598, 4828, 4566, 1803, 1455, 3370, 4806, 4260, 118],\n",
              " [2431,\n",
              "  2729,\n",
              "  3867,\n",
              "  4233,\n",
              "  534,\n",
              "  4531,\n",
              "  4820,\n",
              "  1410,\n",
              "  4376,\n",
              "  2772,\n",
              "  3867,\n",
              "  4138,\n",
              "  1351,\n",
              "  361,\n",
              "  2951],\n",
              " [4269,\n",
              "  3648,\n",
              "  4386,\n",
              "  103,\n",
              "  3880,\n",
              "  140,\n",
              "  2383,\n",
              "  3531,\n",
              "  1748,\n",
              "  214,\n",
              "  1450,\n",
              "  1525,\n",
              "  4891,\n",
              "  2951],\n",
              " [2514, 2159, 552, 3116, 3828],\n",
              " [150, 1660, 2113, 1029, 2548, 3815, 1878, 2883, 1314],\n",
              " [4644, 3376, 4574, 4929, 3399, 253],\n",
              " [1624, 1731, 3216, 534, 505, 1878, 4598, 568, 3238, 1338, 4939, 365],\n",
              " [2955, 1734, 4673, 594],\n",
              " [1320, 470, 182, 970, 4377, 2561, 2939, 4753],\n",
              " [4509, 4405, 2993, 4692, 2697, 4939, 1915, 1878, 2883, 1314],\n",
              " [393, 1485, 4709, 4366, 1558, 3446, 897, 183],\n",
              " [1679, 4208, 1679, 2244, 4794, 2670],\n",
              " [2322, 3306, 1432, 4144, 1745, 382, 4272, 4784, 3473, 1878, 2883, 1314],\n",
              " [2526, 3286, 2379, 3549, 1461, 1312, 2926, 1559, 3658, 1878, 2883, 1314],\n",
              " [373, 1980, 3046, 3930, 3612, 4349, 856, 3569],\n",
              " [2109, 169, 2379, 3094, 4571, 1231, 1189, 4487, 1878, 2883, 1314],\n",
              " [4689, 3008, 2281, 2113, 1896],\n",
              " [460, 2382, 1189, 1539, 3194, 2098, 4772, 4556, 150, 1878, 2883, 1314],\n",
              " [4569, 3654, 4654, 4821, 1357, 361, 1062, 1616, 3284],\n",
              " [2081, 1376, 682, 230, 4036, 2557, 2955],\n",
              " [1904, 534, 1087, 2948, 2955, 4225, 653, 3658],\n",
              " [2951, 1745, 1342, 3405, 3223, 2951],\n",
              " [2955, 2582, 4668, 3799],\n",
              " [1584, 4779, 684, 1062, 4204, 805, 1208, 1858, 183, 2951],\n",
              " [4537, 1301, 4225, 808, 3261, 1575, 2955, 1878, 2883, 1314],\n",
              " [4455, 255, 700, 4251, 1340, 3920, 1902, 3311, 1878, 2883, 1314],\n",
              " [3166, 955, 3473, 1527, 942, 72, 1878, 2883, 1314],\n",
              " [3794, 3853, 3638, 4072, 2582, 1210, 2955, 2951],\n",
              " [4285, 1910, 2928, 2084, 683, 3951, 1367, 3648, 4318],\n",
              " [581, 440, 3655, 4358, 4349, 2478],\n",
              " [1087, 1878, 2204, 1887],\n",
              " [3187, 3498, 1062, 1022, 3512, 4945],\n",
              " [1512, 944, 2375, 1725, 3498, 4030, 4602, 3815, 2955, 1878, 2883, 1314],\n",
              " [900, 3352],\n",
              " [4349, 1117, 3076],\n",
              " [2955, 2816, 2840, 4537, 2490],\n",
              " [3343, 64, 4864, 537, 1164, 111, 4554, 3094, 1878, 2883, 1314],\n",
              " [1452, 265, 1210, 1878, 2883, 4953, 4486, 1878, 2883, 1314],\n",
              " [436, 150, 2177, 2725, 2554, 118, 2951],\n",
              " [2736, 436, 2038, 603, 2467, 444, 2922, 2409, 1878, 2883, 1314],\n",
              " [424, 1742, 882, 3821, 1642, 36, 1878, 2883, 1314],\n",
              " [1464, 121, 4179, 1878, 2883, 1314],\n",
              " [3554, 1226, 677, 3370, 2878, 4952, 4144, 3602],\n",
              " [4586, 4016, 1948, 2955, 4208, 2735, 617, 1878, 3984, 1878, 2883, 1314],\n",
              " [4495, 2845, 3607, 3325, 2948, 2955, 2495, 1878, 2883, 1314],\n",
              " [2721,\n",
              "  4959,\n",
              "  3545,\n",
              "  2955,\n",
              "  3308,\n",
              "  1878,\n",
              "  382,\n",
              "  4929,\n",
              "  2113,\n",
              "  2816,\n",
              "  3558,\n",
              "  2128,\n",
              "  3385,\n",
              "  959],\n",
              " [3890, 3693, 1887, 2878, 1195, 3339, 2081, 4051, 399, 3512, 2951],\n",
              " [2948, 2955, 4038, 2776, 2179, 3981, 705, 1825, 2320, 1649, 3210],\n",
              " [],\n",
              " [4586, 4842, 1726, 4272, 382, 4396, 720, 3473, 1878, 2883, 1314],\n",
              " [2757, 1161, 3957, 2094, 3920, 2484, 4086, 2933, 1878, 2883, 1314],\n",
              " [1406, 3275, 4586, 777, 4484, 1318, 4931, 4473],\n",
              " [2565, 855, 2781, 1855, 2694, 3473, 1878, 2883, 1314],\n",
              " [3280, 585, 642, 1957, 732, 3587, 383, 530, 2951],\n",
              " [3988, 1822, 2849, 2012, 4082, 4424, 4325, 4565],\n",
              " [3452, 3346, 409, 2057, 591, 4126, 991, 1868, 3519, 591, 2951],\n",
              " [3994, 3108, 3642, 1661, 4531],\n",
              " [3613, 3396, 1889, 3116, 4260, 4697, 1878, 2883, 1314],\n",
              " [1343, 1574, 246, 4112, 3537, 3355, 2065, 1878, 2883, 1314],\n",
              " [2955, 3046, 1061, 1318, 2955, 3870, 3889, 5, 3952],\n",
              " [1152, 898, 435, 4377, 4487, 433],\n",
              " [2955, 622, 483, 3580, 4378, 4258, 2951],\n",
              " [4106, 2249, 935, 2627, 4557, 3000, 1642, 3197, 1175, 667, 1057, 4442],\n",
              " [1734, 3415, 1506, 1302, 2955, 4598, 3288, 3071, 1747, 393],\n",
              " [1092, 726, 299, 4671, 3368, 4655, 1878, 2883, 1314],\n",
              " [3630, 2065, 3769, 3731, 841, 3042, 785, 2389, 2955, 1260],\n",
              " [3370, 1732, 2437, 197, 1893, 2376],\n",
              " [1618, 97, 4923, 43, 1062, 461, 1878, 2883, 1314],\n",
              " [3048, 4187, 1471, 1618, 2177, 3686, 107, 1340, 253, 865, 4633, 4772],\n",
              " [4586, 2065, 2376, 3439, 1191, 4175, 2794, 3370, 309],\n",
              " [3174, 3920, 166, 2585, 3060, 3992, 4600, 1878, 2883, 1314],\n",
              " [2955, 181, 1693, 3910, 4648, 1405, 1878, 2883, 1314],\n",
              " [2526, 3072, 4824, 512, 284, 594, 4484, 1701, 1144, 1878, 2883, 1314],\n",
              " [539, 2559, 1843, 1348, 4498, 1855],\n",
              " [4272, 448, 1641, 3247, 3137, 1210, 2531, 2113, 96, 2306],\n",
              " [3649, 3319, 2019, 4796, 47, 1318, 2955, 617],\n",
              " [4285, 1620, 1318, 100, 758],\n",
              " [4034, 2379, 897, 2467, 189, 4953, 3986, 3981, 1274, 2306, 427, 4487, 2951],\n",
              " [4498, 2548, 1795, 3091, 4028, 2433, 4631],\n",
              " [622, 3875, 3536, 4977, 1119, 1674, 4633, 4772],\n",
              " [4721,\n",
              "  2697,\n",
              "  1618,\n",
              "  2966,\n",
              "  433,\n",
              "  3613,\n",
              "  1106,\n",
              "  1427,\n",
              "  1170,\n",
              "  278,\n",
              "  3198,\n",
              "  1194,\n",
              "  3539,\n",
              "  2951],\n",
              " [514, 4057, 4273, 3512, 479, 4566, 1803],\n",
              " [3926, 4318, 1119, 1083, 4763, 1964, 3417, 1093, 1878, 2883, 1314],\n",
              " [183, 3421, 1350, 2955, 2080, 2946, 3853, 1072, 1745, 4938, 150],\n",
              " [3283, 2376, 1200, 3637, 2186],\n",
              " [310, 4138, 3485, 1747],\n",
              " [1194, 1087, 1502, 1642, 3544, 2845, 2558, 1878, 2883, 1314],\n",
              " [3409, 2491, 169, 1243, 783, 865, 1878, 2883, 4296, 1878, 2883, 1314],\n",
              " [3401, 3198, 1109, 4763, 240, 902, 3910, 1242, 1878, 2883, 1314],\n",
              " [3721, 411, 4776, 148, 3162, 4938, 2879, 1878, 2883, 1314],\n",
              " [4138, 2094, 1061, 1560, 4864, 433, 104, 2951],\n",
              " [2980, 3389, 2153, 1584, 187, 3947, 4436, 2403],\n",
              " [1482, 4272, 1471, 1795, 263, 2826, 3872, 841, 1426, 3043, 2554, 3851],\n",
              " [1744, 3692, 3853, 3370, 2065, 3853, 4801, 629, 3805],\n",
              " [1194, 3094, 987, 443, 1803, 3984, 614, 687, 3116, 1878, 2883, 1314],\n",
              " [1144, 3486, 4078, 2771, 1205, 1987, 4207, 1987, 1878, 2883, 1314],\n",
              " [2582, 2232, 1803, 4174, 2065, 558, 4127, 1878, 2883, 1314],\n",
              " [3356, 3368, 1556, 2955, 3610, 23, 1878, 2883, 1314],\n",
              " [1807, 4182, 383, 4693, 1199, 3042, 4225, 2330, 2352, 1202],\n",
              " [2955, 2753, 4260, 3048, 2561, 4422, 3446, 1878, 2883, 1314],\n",
              " [4305, 4796, 2379, 2826, 2769, 4106, 284, 530, 2697, 3137, 3210],\n",
              " [2625, 147, 200, 443, 1484, 3602, 147, 3854, 1693, 263, 3645],\n",
              " [534, 4499, 2955, 3174, 758, 2924, 719, 3415, 1878, 2883, 1314],\n",
              " [1204, 4763, 3216, 2652, 4051, 3901, 3748, 477, 2951],\n",
              " [3780, 3018, 4012, 3269, 1878, 2883, 1314],\n",
              " [3896, 3981, 2158, 593, 3853, 2039, 4251, 4832, 1878, 2883, 1314],\n",
              " [534, 1062, 1053, 4689, 3694, 795, 4051],\n",
              " [383, 3554, 4653, 3429, 1450, 3315, 1393, 108, 1878, 2883, 1314],\n",
              " [230, 1506, 2948, 1351, 4829, 1878, 2883, 1314],\n",
              " [3937, 4660, 2378, 1140, 3930, 4318, 2948, 2955],\n",
              " [4610, 2130, 2056, 993, 3288, 4843, 2521, 1878, 2883, 1314],\n",
              " [4051, 4713, 2946, 3595, 109, 9, 595],\n",
              " [3754, 512, 4841, 1215, 1262, 2809, 4280, 1878, 2883, 1314],\n",
              " [1270, 1791, 3815, 1878, 2883, 1314],\n",
              " [2269, 2317, 4692, 2956, 2382, 3340, 4966],\n",
              " [1485, 3800, 3954, 2492, 1114, 582, 4938],\n",
              " [3889, 690, 1829, 61, 3306, 43, 3838, 109, 4189, 3015, 1878, 2883, 1314],\n",
              " [2974, 460, 1242, 4692, 879, 4225, 1742, 2951],\n",
              " [3935, 4912, 3311, 2330, 1605, 745, 3910, 1521, 3565, 1260, 1878, 2883, 1314],\n",
              " [3630, 1192, 1878, 3731, 3769, 2065, 1208, 2081, 1364],\n",
              " [2849, 1863, 383, 1807, 3879, 2249],\n",
              " [1471, 1729, 3727, 2955, 4773, 4596, 3137, 3372, 58],\n",
              " [4656, 534, 1448, 4806, 3178, 3694],\n",
              " [2808, 1943, 4524, 1862, 3168, 383, 2391, 4081],\n",
              " [1535, 2192, 3562, 3410, 1878, 2883, 1314],\n",
              " [2948, 2955, 1369, 1571, 2904, 784, 2085, 181, 1878, 2883, 1314],\n",
              " [4442, 3111, 2804, 1243, 2826, 443, 1878, 2883, 1314],\n",
              " [1406, 3285, 4912, 55, 1612, 3619, 1878, 2883, 1314],\n",
              " [1512, 147, 2180, 3878, 1681, 1161, 230, 1878, 2883, 1314],\n",
              " [2837, 609, 296, 3587, 3418, 1519, 701, 1623, 3808, 1878, 2883, 1314],\n",
              " [253, 2388, 2509, 1036, 253, 4113, 622],\n",
              " [3620, 1598, 2387, 3630, 1869, 4956, 2878, 3197, 1878, 2065, 3769, 3731],\n",
              " [2948, 2955, 3853, 1357, 3065, 3444],\n",
              " [1057, 1679, 3900, 4011, 1145, 3930, 1878, 2883, 1314],\n",
              " [3468, 3165, 3963, 1312, 608, 4280, 2703, 929, 1878, 2883, 1314],\n",
              " [4428, 4824, 3667, 4807, 4274],\n",
              " [4537, 2530, 1642, 3197, 53, 3149, 2955, 2743, 3166, 2951],\n",
              " [4735, 255],\n",
              " [35, 1432, 1521, 667, 2240, 3194, 383, 3784, 101],\n",
              " [2079, 4474, 3370, 2065, 2769, 2177, 4208, 253],\n",
              " [622, 585, 3744, 3879, 4446, 1069, 1163, 706, 1878, 2883, 1314],\n",
              " [2282, 2255, 1916, 1482, 4169],\n",
              " [4495,\n",
              "  1601,\n",
              "  1117,\n",
              "  4820,\n",
              "  2087,\n",
              "  1117,\n",
              "  4495,\n",
              "  4047,\n",
              "  4233,\n",
              "  896,\n",
              "  3444,\n",
              "  1117,\n",
              "  4495,\n",
              "  928,\n",
              "  4428,\n",
              "  1572,\n",
              "  4480,\n",
              "  1102,\n",
              "  4083],\n",
              " [4113, 101, 568, 904, 2688, 3637, 1210],\n",
              " [4981, 2940, 397, 566, 4845, 4314],\n",
              " [2955, 253, 4127, 4822, 558, 695],\n",
              " [4611, 2330, 1506, 3781, 182, 2808, 3930, 853, 1187, 1061, 2951],\n",
              " [3899, 3168, 483, 1176, 2955, 4930, 4337, 4233, 3781, 1803],\n",
              " [4779, 3009, 2955, 4809, 4484, 1582, 3338, 1273, 4280, 4208],\n",
              " [1860, 1909, 2901],\n",
              " [703, 2946, 3903, 4610, 4403, 3193],\n",
              " [4086, 3873, 3851, 2826, 1723, 2489, 1878, 2883, 1314],\n",
              " [4513, 4425, 3638, 2397, 1548, 886, 782, 1202, 4550, 2951],\n",
              " [2455, 3758, 1671, 3136, 74, 4897, 563, 3500, 319, 627],\n",
              " [1471, 4528, 4763, 4486, 732, 623, 328, 4832, 2951],\n",
              " [1263, 1873, 2482, 4881, 3546, 4598, 295],\n",
              " [3396, 3369],\n",
              " [4585, 1089, 2391, 3548, 1802, 3757, 1878, 2883, 1314],\n",
              " [4528, 3903, 937, 800, 2854, 2443, 617, 2951],\n",
              " [3042, 4542, 3370, 3186, 1292, 2785, 1881],\n",
              " [1726, 4938, 1529, 62, 4843, 3260, 1878, 2883, 1314],\n",
              " [2393, 655, 3460, 3480, 2361, 1878, 2883, 1314],\n",
              " [4787, 2556, 3748, 554, 1731, 1878, 2883, 1314],\n",
              " [1320, 157, 659, 960, 2919, 1301, 1878, 2883, 1314],\n",
              " [2955, 2291, 2084, 1476, 567, 2729, 173, 3926, 4208, 1878, 2883, 1314],\n",
              " [4811,\n",
              "  3700,\n",
              "  1506,\n",
              "  1035,\n",
              "  277,\n",
              "  2568,\n",
              "  1631,\n",
              "  513,\n",
              "  625,\n",
              "  2467,\n",
              "  1835,\n",
              "  1349,\n",
              "  2880,\n",
              "  1878,\n",
              "  2883,\n",
              "  1314],\n",
              " [4537, 2546, 3628, 66, 3431, 1878, 2883, 1314],\n",
              " [3534, 3123, 1504, 758, 1246, 2955, 1873],\n",
              " [1471, 2955, 4260, 5, 3952, 1061, 205, 2793, 1618, 2966, 2951],\n",
              " [3620, 3424, 3401, 1117, 800, 2911, 2557, 558, 2969, 2951],\n",
              " [3192, 383, 644, 4542, 1878, 3370, 3769, 4992, 2388, 4761, 3043, 3630],\n",
              " [2739, 3625, 3633, 3192, 805, 2908, 1878, 2883, 1314],\n",
              " [2850, 3150, 1884, 110],\n",
              " [1357, 2961, 1075, 1332, 1907, 3216],\n",
              " [2300, 1406, 645, 4, 1208, 2764, 3779, 2951],\n",
              " [1512, 3562, 2404, 3672, 116, 2757, 2849, 1878, 2883, 1314],\n",
              " [4843, 3512, 4595, 1072, 3034, 3986, 783, 1653, 824, 4595],\n",
              " [836, 3500, 1898, 1878, 2883, 1314],\n",
              " [2004, 3427, 3370, 4333, 1933, 3025, 3216, 4820, 913],\n",
              " [441, 2057, 540, 3338, 2210, 3377, 2352, 787, 519, 3281, 2951],\n",
              " [3529, 1511, 1803, 2388, 719, 2864, 1051, 1878, 2883, 1314],\n",
              " [4677, 3537, 36, 2955, 1064],\n",
              " [4976, 1896, 3597, 3647],\n",
              " [4350, 956, 2177, 3859, 3049, 381, 4557, 2784, 1878, 2883, 1314],\n",
              " [4693, 3385, 4310, 642, 513, 1701, 1642, 4644, 2948, 2955],\n",
              " [3036, 2826, 2074, 4685, 704, 4746, 2113, 594, 1878, 2883, 1314],\n",
              " [2974, 4487, 1734, 3137, 103, 183],\n",
              " [4012, 237, 1528, 4832, 4244, 1432, 2731, 3806, 109, 1878, 2883, 1314],\n",
              " [3370, 3382, 2151, 1991, 799, 65],\n",
              " [3664, 413, 4655, 1386, 1871, 1612, 3619, 1878, 2883, 1314],\n",
              " [3097, 15, 1062, 3551, 1155, 1968, 4509, 3461, 4686],\n",
              " [1144, 2065, 4610, 2467, 2100, 2352, 3065, 585, 2030, 1937],\n",
              " [4693, 1210, 2955, 2878, 1518, 305, 4710, 1878, 2883, 1314],\n",
              " [594, 2649, 462, 502, 580, 1735],\n",
              " [2283, 3370, 574],\n",
              " [4106, 3112, 3294, 3867, 4317, 160, 1984, 3370, 1195],\n",
              " [3247, 1334, 4255, 1152, 4242, 2045, 2742, 1878, 2883, 1314],\n",
              " [4272, 3988, 1822, 938, 3512, 4602, 1178, 229, 1096, 1822, 3389, 2121, 2275],\n",
              " [187, 2752, 474, 2958, 1038, 4126, 1210, 1878, 2883, 1314],\n",
              " [2625, 310, 2465, 3938, 3750, 310, 2465, 3938, 3750, 1016, 4782, 657, 4888],\n",
              " [3535, 2991, 2182, 4956, 2196, 548, 622, 3630, 4973, 4656, 2955, 3034],\n",
              " [784, 1512, 1423, 1146, 1061, 4986, 81, 3068],\n",
              " [1584, 1527, 3867, 383, 2387, 1229, 4979, 3216, 1206, 4386],\n",
              " [2736, 383, 483, 709, 3270, 4939, 4106, 1745, 183],\n",
              " [2729, 3385, 2109, 1376, 2679, 3372, 1031, 3319, 1754, 1878, 2883, 1314],\n",
              " [1612, 3619, 3370, 2065, 2948, 2955, 1525, 4315, 1878, 2883, 1314],\n",
              " [1823, 52, 2087, 4207, 4556, 3216, 1246, 3094, 1062, 3617, 2185],\n",
              " [4012, 237, 2702, 1679, 1878, 3117, 1878, 2883, 1314],\n",
              " [458, 1121, 3849, 3886, 2064, 4349, 2120, 1878, 2883, 1314],\n",
              " [3285, 2808, 181, 853, 4967, 121, 5, 4798],\n",
              " [2948, 2955, 4843, 4290, 1712, 474, 4782],\n",
              " [1584, 4104, 720, 886, 1735, 4272, 4153, 4272, 3376, 89, 2951],\n",
              " [2333, 1245, 4736, 1217, 3192, 413],\n",
              " [3548, 4916, 1455, 4464, 1051],\n",
              " [1763, 1092, 4423, 1229, 1580],\n",
              " [2946, 762, 3534, 3396, 622, 4610, 2951],\n",
              " [3637, 871, 2955, 2389, 3355, 568, 4644, 3781, 2181, 1878, 2883, 1314],\n",
              " [2767, 4856, 1302, 4403, 3193, 3046, 4116, 4991, 2951],\n",
              " [1342, 3409, 4013, 4796],\n",
              " [383, 1742, 109, 2170, 3899, 3375, 4193, 4863, 1878, 2883, 1314],\n",
              " [745, 1062, 4513, 4887, 1823, 1878, 2883, 1314],\n",
              " [3045, 1317, 4208, 3981, 4349, 4595, 4393],\n",
              " [1342, 4750, 3424, 2969, 998],\n",
              " [3189, 2528, 4655, 817, 4318, 2955, 1484, 1201, 3283, 1986, 1776, 2531],\n",
              " [2600, 1784, 2904, 4755, 2481, 2955, 3068, 4, 1878, 2883, 1314],\n",
              " [1318, 2955, 1052, 4896, 1018, 2210, 4292, 3268, 3385, 4017],\n",
              " [3746, 1312, 513, 4763, 1408, 4276, 1878, 2883, 1314],\n",
              " [4467, 4072, 3535, 4919, 2159, 3000, 1878, 2883, 1314],\n",
              " [3630, 3814, 1312, 1670, 3134, 383, 1849, 697, 2794],\n",
              " [1701, 4897, 1466, 2807, 2395, 3060],\n",
              " [2754, 2315, 1432, 4724, 3250, 4554, 2271, 1669],\n",
              " [693, 2081, 4051, 265, 1887, 2466, 1217],\n",
              " [4106, 907, 3549, 1609, 512, 343, 1502, 1878, 2883, 1314],\n",
              " [2081, 1376, 4923, 462, 1765, 3159],\n",
              " [483,\n",
              "  2955,\n",
              "  555,\n",
              "  1692,\n",
              "  1584,\n",
              "  4602,\n",
              "  853,\n",
              "  1357,\n",
              "  696,\n",
              "  3428,\n",
              "  4495,\n",
              "  1887,\n",
              "  3471,\n",
              "  4556,\n",
              "  2951],\n",
              " [3370, 2065, 3046, 1879, 3944, 4318, 1941, 4208],\n",
              " [812, 4490, 4267, 719, 4006, 3502, 1698],\n",
              " [4266, 139, 1961, 295, 529],\n",
              " [3415, 3501, 3597, 1693, 295, 3707, 3597],\n",
              " [3702, 2249, 1566, 2466, 4403, 3193, 2285, 839],\n",
              " [1318, 2955, 3610, 1416, 1729, 396, 3710],\n",
              " [1604, 649, 2789, 3445, 1233, 3216, 1878, 2883, 1314],\n",
              " [730, 3289, 2121, 2275, 462, 2811, 600, 4468, 424],\n",
              " [2955, 1924, 424, 4671, 1807, 4182, 575, 4487, 1878, 2883, 1314],\n",
              " [2951, 1745, 1342, 2057, 1882, 2951],\n",
              " [3370, 4824],\n",
              " [2348, 4113, 3913, 2975, 4523, 2681, 1975, 696],\n",
              " [2948, 2955, 3189, 1507, 1257, 361, 1612, 3619, 1878, 2883, 1314],\n",
              " [1803, 3698, 864, 1155, 548, 4271, 3689],\n",
              " [4495, 4263, 4556, 3377, 1615, 4541, 1825, 2951],\n",
              " [1117, 3338, 383, 1169, 1006, 2861, 3944],\n",
              " [1797, 2282, 1618, 4774, 154, 776, 4656, 3866, 2951],\n",
              " [783, 95, 4303, 466, 2296, 1878, 2883, 1314],\n",
              " [2467, 4960, 709, 2029, 2308, 3271, 2496, 4758, 3952, 4, 2951],\n",
              " [4285, 4386, 2282, 2388, 3610, 1195, 2271, 900],\n",
              " [2955, 2428, 4453, 2107, 2993, 513, 2074, 1878, 2883, 1314],\n",
              " [1051, 4611, 2736, 1200, 2249],\n",
              " [4992, 462, 131, 1878, 2883, 1314],\n",
              " [2625, 1332, 4976, 2177, 425],\n",
              " [4560, 3630, 2065, 3769, 3731, 841, 3042, 785, 2389, 2955, 1260],\n",
              " [383, 905, 81, 1735, 756, 4685, 3281, 109, 1878, 2883, 1314],\n",
              " [314, 3116, 2980, 4155, 4836, 627, 2771, 3102, 4225],\n",
              " [3827, 1784, 4824, 890, 1037, 96, 4131, 4821, 319],\n",
              " [2955, 1341, 3579, 4, 1145, 1332, 3784, 2652, 1878, 2883, 1314],\n",
              " [1678, 4965, 2166, 2297, 64],\n",
              " [3911, 4628, 2521, 1604, 995, 1855],\n",
              " [1548, 2315, 803, 4484, 18, 2110, 4887],\n",
              " [2571, 860, 4685, 382],\n",
              " [2955, 1495, 1878, 4305, 1642, 356, 2951],\n",
              " [4721, 1204, 4208, 3046, 214, 2742, 568, 1507, 704, 4812],\n",
              " [4012, 1613, 3717, 4631, 1145, 555, 4455, 4101, 2951],\n",
              " [2673, 211, 783, 2362],\n",
              " [1051,\n",
              "  4126,\n",
              "  446,\n",
              "  4550,\n",
              "  382,\n",
              "  3060,\n",
              "  2399,\n",
              "  3660,\n",
              "  2878,\n",
              "  1773,\n",
              "  382,\n",
              "  3893,\n",
              "  4562,\n",
              "  1878,\n",
              "  2883,\n",
              "  1314],\n",
              " [1175, 4515, 112, 4633, 4772, 947, 3587, 1037, 96, 4131],\n",
              " [1320, 2693, 3930, 3258, 3714, 627, 1144, 2826, 3610, 2951],\n",
              " [473, 4111, 2811, 1727, 1521, 81, 1113],\n",
              " [3049, 2255, 609, 3213, 4280, 365, 3822, 2771, 2094, 1878, 2883, 1314],\n",
              " [2554, 3102, 1260, 3370, 2065, 1560, 2948, 2955, 1878, 2883, 1314],\n",
              " [3935, 1745, 1878, 2883, 1314, 1178, 2951, 389, 1734, 2951],\n",
              " [2182, 1878, 2459, 309, 4623, 2967, 1878, 2883, 1314],\n",
              " [2602, 3273, 3867, 2079, 4315, 383, 2719, 1641, 3091],\n",
              " [4713, 537, 3965, 383, 1242, 3418, 3920, 1246, 1878, 2883, 1314],\n",
              " [1471, 3319, 865, 3217, 2130],\n",
              " [2060, 1548, 1432, 4385, 439, 1745, 4276, 3370, 2065],\n",
              " [1512, 4745, 94, 3111, 3482, 35, 3637, 4228, 3352, 1878, 2883, 1314],\n",
              " [3946, 2828, 1258, 1557, 3709, 2955, 778, 1697],\n",
              " [2429, 4836, 1494, 2186, 3986, 4498, 2535, 1785, 513, 1016, 1471, 431, 4243],\n",
              " [1512, 1291, 970, 3808, 1314, 3430, 423, 2059, 727, 1878, 2883, 1314],\n",
              " [1803, 4320, 79, 902, 1260, 1854, 1664],\n",
              " [3634, 803, 200, 1731],\n",
              " [4509, 1062, 680, 1915, 4397, 3910, 348, 1878, 2883, 1314],\n",
              " [2011, 1245, 2425, 496],\n",
              " [2113, 667, 477, 3595, 2055, 547, 3672, 3821],\n",
              " [1054, 2590, 4631, 1670, 2361, 4660, 1878, 2883, 1314],\n",
              " [4556, 1189, 318, 4320, 1986, 2845, 1934, 1313],\n",
              " [3068, 2179, 3042, 3240, 3319, 2376, 187, 1723, 2955, 2951],\n",
              " [642, 2742, 1313, 254, 3590, 118, 4273, 1225, 4542, 594, 2951],\n",
              " [516, 788, 214, 4228, 2379, 103, 3177, 3920, 1878, 2883, 1314],\n",
              " [3262, 1933, 916, 2582, 1260, 436, 150],\n",
              " [571, 2688, 4347, 2608, 265, 3846],\n",
              " [3950, 489, 10, 1056, 788],\n",
              " [3620, 3401, 3452, 3346, 3597, 2165, 2848, 1891, 1008, 2397, 2951],\n",
              " [383, 3056, 4866, 1062, 383, 3596, 3815, 4826, 4208, 1878, 2883, 1314],\n",
              " [2955, 2185],\n",
              " [3418, 4318, 289, 4000, 1556, 1635, 2181, 1236, 1878, 2883, 1314],\n",
              " [2955, 4026, 667, 190, 1188, 3319, 491, 1855, 1332, 183],\n",
              " [3534, 2585, 4086, 1803, 3979, 2746, 1314, 3748, 1878, 2883, 1314],\n",
              " [1057, 940, 846, 2849, 3588, 1584, 2352, 2383, 1144, 3605],\n",
              " [4377, 94, 15, 112, 1510, 704, 1313],\n",
              " [2811, 42, 824, 4349, 3346, 3444, 3288, 1777, 1878, 2883, 1314],\n",
              " [4490, 2344, 1795, 3091, 135],\n",
              " [1403, 183, 3344, 4449, 2940, 29, 3370],\n",
              " [4585, 1878, 2650, 3529, 4422, 2248, 1405, 1878, 2883, 1314],\n",
              " [2065, 3848, 27, 3034, 1215],\n",
              " [3370, 4656, 1141, 1812, 1642, 2608, 2955, 2951],\n",
              " [4153, 253, 3995, 2554, 4262, 609, 3721, 4992],\n",
              " [4050, 295, 255, 3174, 3134, 3164, 2248, 642],\n",
              " [3714, 3893, 103, 4154, 3282, 96],\n",
              " [4481, 1974, 2765, 4526, 462, 3237, 1204, 4208, 4650, 2951],\n",
              " [1583, 775, 288, 4124, 4489, 2486, 1878, 2883, 1314],\n",
              " [1803, 4228, 4273, 3497, 127, 1730, 4256, 1878, 2883, 1314],\n",
              " [398, 2844, 4411, 3235, 512, 2333, 4519, 2961],\n",
              " [1729, 403, 1736, 1513, 3624, 2625, 3370, 4832, 923],\n",
              " [642, 2282, 1202, 879, 3465, 3284, 1878, 2883, 1314],\n",
              " [2852, 309, 3780, 4803, 1085, 3505, 3473],\n",
              " [4272, 896, 1871, 2065, 2840],\n",
              " [1506, 3352, 3139, 3910, 631, 1669, 1152, 3446],\n",
              " [1405, 4208, 4483, 2955, 3430, 4, 1878, 2883, 1314],\n",
              " [3792, 1698, 2379, 3352, 667, 1543, 3853, 2473, 4467, 183],\n",
              " [3935, 1745, 2955, 2248, 3784, 2561],\n",
              " [4318, 393],\n",
              " [3192, 4273, 1869, 4393, 4395, 393, 1485, 2951],\n",
              " [1206, 4276, 4968, 1878, 2883, 1314],\n",
              " [3152, 4942, 181, 253, 1948, 4251, 2216, 1139, 4256, 2067, 4204, 3580],\n",
              " [2370, 4154, 305, 29],\n",
              " [622, 2079, 3769, 2940, 1854, 1166, 1803, 1064],\n",
              " [3393, 1642, 206, 2281, 293, 2321, 3873, 3512],\n",
              " [1837, 783, 4586, 1492, 3174, 274, 246, 3370],\n",
              " [444, 2270, 112, 3786, 4208, 3260, 1878, 2883, 1314],\n",
              " [3392, 3867, 2794, 4105, 3008, 2794, 1214, 1642, 2951],\n",
              " [64, 644, 4153, 1598, 361, 3873, 4845, 3899, 4198, 2170],\n",
              " [3505, 2649, 1314, 4888, 2916, 2955, 2300, 1665, 2951],\n",
              " [654, 1587, 4143, 1879, 1117, 1117, 1878, 2883, 1314],\n",
              " [3370, 2065, 3186, 2948, 2955, 1878, 4269, 343, 3042, 4600, 1878, 2883, 1314],\n",
              " [3599, 3285, 29, 2834, 2948, 2955, 808, 1612, 3619, 1878, 2883, 1314],\n",
              " [1584, 1302, 3217, 970, 3808, 383, 4113, 2951],\n",
              " [1340, 4623, 2764, 3311, 3329, 3473, 1878, 2883, 1314],\n",
              " [1443, 1642, 2657, 2757, 4027, 1764, 1878, 2883, 1314],\n",
              " [4929, 2019, 4280],\n",
              " [3043, 2948, 2955, 1726, 49, 630, 835, 4126, 528, 1878, 2883, 1314],\n",
              " [4159, 4542, 2763, 3707, 784, 370, 1878, 2883, 1314],\n",
              " [799, 3246, 1357, 696, 712, 4099, 4458, 3700, 1015, 2951],\n",
              " [2955, 2916, 3102, 3544, 3192, 3700, 2192, 2878, 4436, 4315],\n",
              " [4374, 2526, 3732, 1450, 3242, 4233, 902, 1878, 2883, 1314],\n",
              " [4586, 3407, 3264, 4273, 146, 27, 2437, 2650, 4251, 4832, 2951],\n",
              " [4495, 3177, 856, 4953, 3246, 2271, 4487, 2951],\n",
              " [2392,\n",
              "  1521,\n",
              "  1878,\n",
              "  1152,\n",
              "  3116,\n",
              "  1875,\n",
              "  1736,\n",
              "  2804,\n",
              "  1161,\n",
              "  3822,\n",
              "  3200,\n",
              "  1878,\n",
              "  2883,\n",
              "  1314],\n",
              " [2948, 2955, 3370, 2065, 4100, 4743, 1612, 3619, 1878, 2883, 1314],\n",
              " [4820, 2703, 109, 3512, 254, 1558, 3377, 382, 4272, 4784],\n",
              " [2379, 3549, 4763, 4107, 3370, 1320],\n",
              " [3304, 1330, 4684, 928],\n",
              " [4455, 4007, 4267, 2945, 3134, 372, 3787, 2113, 783, 1653, 4695],\n",
              " [2109, 2840, 594, 383, 3899, 3224, 277, 2598, 1878, 2883, 1314],\n",
              " [314, 2808, 766, 2955, 3808, 4436, 3046, 3385, 4201, 1954, 2545, 2951],\n",
              " [4685, 2004, 2378, 2531, 1169, 1006, 4026, 2526, 121],\n",
              " [2955, 1206, 4403, 3193, 3304, 4227, 4660, 2878, 1878, 2883, 1314],\n",
              " [2625, 3370, 2065, 2764, 2774, 1326, 1524, 393, 3769, 2109],\n",
              " [4522, 1803, 1776, 2743, 253, 3370, 98, 1878, 3630, 3769, 3731],\n",
              " [2948, 2955, 2911, 575, 3607, 2845, 4007, 150, 3612, 1878, 2883, 1314],\n",
              " [783, 4386, 98, 23, 75, 4763, 427, 746, 692, 2067],\n",
              " [4506, 3694, 3727, 1540, 3915, 341, 2248, 1669],\n",
              " [2955, 784, 2085, 3415, 3439, 4656, 4866, 1887, 2934, 2822, 1878, 2883, 1314],\n",
              " [3868, 446, 4818, 3614, 3980, 1450, 1302, 4198, 183],\n",
              " [2104, 1642, 4000, 3809, 3801, 230, 4991, 1090, 1878, 2883, 1314],\n",
              " ...]"
            ]
          },
          "metadata": {},
          "execution_count": 51
        }
      ]
    },
    {
      "cell_type": "markdown",
      "source": [
        "### Embedding Representation"
      ],
      "metadata": {
        "id": "lG8PKHuNVjdJ"
      }
    },
    {
      "cell_type": "markdown",
      "source": [
        "Before going in for the embedding layer in the RNN model. \n",
        "\n",
        "The post padding is provided to the data for uniformity of matrix accross all the input sentences "
      ],
      "metadata": {
        "id": "xhCYfQEayIPo"
      }
    },
    {
      "cell_type": "code",
      "source": [
        "# Padding to the sequences of 20 words each\n",
        "sent_length = 20\n",
        "padded_sent = pad_sequences(one_hot_rep, maxlen = sent_length, padding = 'post' )\n",
        "padded_sent[0:10]"
      ],
      "metadata": {
        "colab": {
          "base_uri": "https://localhost:8080/"
        },
        "id": "cnaQutWsVba2",
        "outputId": "d8ac21b8-1c16-44f9-b1a8-5b49497beee2"
      },
      "execution_count": null,
      "outputs": [
        {
          "output_type": "execute_result",
          "data": {
            "text/plain": [
              "array([[ 696, 3452, 2428,   81, 3385, 4956, 2378, 1765, 3424, 3461,    0,\n",
              "           0,    0,    0,    0,    0,    0,    0,    0,    0],\n",
              "       [2431, 3370, 2065,  436, 1855, 3729, 2951,    0,    0,    0,    0,\n",
              "           0,    0,    0,    0,    0,    0,    0,    0,    0],\n",
              "       [1734, 2608, 3853, 2754,    0,    0,    0,    0,    0,    0,    0,\n",
              "           0,    0,    0,    0,    0,    0,    0,    0,    0],\n",
              "       [ 580, 2703, 4742,  383, 4468, 3692,    0,    0,    0,    0,    0,\n",
              "           0,    0,    0,    0,    0,    0,    0,    0,    0],\n",
              "       [ 622, 1855, 2551, 3256, 3551, 4276, 1855, 1292, 3920, 4144,    0,\n",
              "           0,    0,    0,    0,    0,    0,    0,    0,    0],\n",
              "       [1549, 1531, 2080,  787, 3498, 2955, 4942, 2526, 3732, 3889,  448,\n",
              "        3525, 4721,  183, 2951,    0,    0,    0,    0,    0],\n",
              "       [4831,  992, 1835,   96, 4317,  719, 1036,  591, 1878, 2883, 1314,\n",
              "           0,    0,    0,    0,    0,    0,    0,    0,    0],\n",
              "       [3815, 4316, 1061, 4304, 3910,  762, 2955,  135, 1878, 2883, 1314,\n",
              "           0,    0,    0,    0,    0,    0,    0,    0,    0],\n",
              "       [1803,  515,  985,  614,  391,  382, 2327,  901, 2955, 1326,    0,\n",
              "           0,    0,    0,    0,    0,    0,    0,    0,    0],\n",
              "       [1831, 3502, 1867, 1907, 4409,  594, 4798, 4557,    0,    0,    0,\n",
              "           0,    0,    0,    0,    0,    0,    0,    0,    0]],\n",
              "      dtype=int32)"
            ]
          },
          "metadata": {},
          "execution_count": 54
        }
      ]
    },
    {
      "cell_type": "code",
      "source": [
        "len(padded_sent)"
      ],
      "metadata": {
        "colab": {
          "base_uri": "https://localhost:8080/"
        },
        "id": "q0uCC8ATV_4P",
        "outputId": "946bb67f-bdbb-44e7-f938-2b0b4bd8e880"
      },
      "execution_count": null,
      "outputs": [
        {
          "output_type": "execute_result",
          "data": {
            "text/plain": [
              "18285"
            ]
          },
          "metadata": {},
          "execution_count": 55
        }
      ]
    },
    {
      "cell_type": "markdown",
      "source": [
        "The model consists of multiple layers as follows: \n",
        "\n",
        "\n",
        "* Sequential model (the base layer)\n",
        "* Embedding layer consisting following parameters\n",
        "1. vocab_size= 5000 total words, \n",
        "2. embedding features  = no. of vectors dimension  \n",
        "3. sent_length = 20 no.of words in seq \n",
        "* LSTM layer \n",
        "* Dense layer \n",
        "\n",
        "\n"
      ],
      "metadata": {
        "id": "tSIKhGbMyezN"
      }
    },
    {
      "cell_type": "markdown",
      "source": [
        "WHile creating the model we don't introduce the data i.e. padded sentences.\n",
        "\n",
        "THey are passed when we fit the model  "
      ],
      "metadata": {
        "id": "qJO1kEp5XZZJ"
      }
    },
    {
      "cell_type": "code",
      "source": [
        "# Developing model\n",
        "embedding_vector_features = 40\n",
        "lstm_neurons = 256\n",
        "model = Sequential()\n",
        "model.add(Embedding(input_dim = vocab_size, output_dim= embedding_vector_features, input_length = sent_length ))\n",
        "# vocab_size= 5000 total words, \n",
        "# embedding features  = no. of vectors dimension  \n",
        "# sent_length = 20 no.of words in seq \n",
        "model.add(LSTM(lstm_neurons))\n",
        "model.add(Dense(1, activation = 'sigmoid'))\n",
        "model.compile(optimizer = 'adam', loss = 'binary_crossentropy', metrics = ['accuracy'] )\n",
        "model.summary()"
      ],
      "metadata": {
        "colab": {
          "base_uri": "https://localhost:8080/"
        },
        "id": "D6kwTmBEWZh4",
        "outputId": "4b5396b0-934f-4494-bbb7-dee199b6bd94"
      },
      "execution_count": null,
      "outputs": [
        {
          "output_type": "stream",
          "name": "stdout",
          "text": [
            "Model: \"sequential\"\n",
            "_________________________________________________________________\n",
            " Layer (type)                Output Shape              Param #   \n",
            "=================================================================\n",
            " embedding (Embedding)       (None, 20, 40)            200000    \n",
            "                                                                 \n",
            " lstm (LSTM)                 (None, 256)               304128    \n",
            "                                                                 \n",
            " dense (Dense)               (None, 1)                 257       \n",
            "                                                                 \n",
            "=================================================================\n",
            "Total params: 504,385\n",
            "Trainable params: 504,385\n",
            "Non-trainable params: 0\n",
            "_________________________________________________________________\n"
          ]
        }
      ]
    },
    {
      "cell_type": "code",
      "source": [
        "len(padded_sent) , y.shape"
      ],
      "metadata": {
        "colab": {
          "base_uri": "https://localhost:8080/"
        },
        "id": "PcCqpTcvYs0i",
        "outputId": "721e9a7f-b090-4376-b8eb-47ca401cc0a3"
      },
      "execution_count": null,
      "outputs": [
        {
          "output_type": "execute_result",
          "data": {
            "text/plain": [
              "(18285, (18285,))"
            ]
          },
          "metadata": {},
          "execution_count": 57
        }
      ]
    },
    {
      "cell_type": "code",
      "source": [
        "import numpy as np\n",
        "X_final = np.array(padded_sent)\n",
        "y_final = np.array(y)"
      ],
      "metadata": {
        "id": "gz1fb2FuZWEz"
      },
      "execution_count": null,
      "outputs": []
    },
    {
      "cell_type": "code",
      "source": [
        "X_final.shape , y_final.shape"
      ],
      "metadata": {
        "colab": {
          "base_uri": "https://localhost:8080/"
        },
        "id": "9Y5tLv81ZUIQ",
        "outputId": "f9be435a-660d-4716-9194-a581e3c493a9"
      },
      "execution_count": null,
      "outputs": [
        {
          "output_type": "execute_result",
          "data": {
            "text/plain": [
              "((18285, 20), (18285,))"
            ]
          },
          "metadata": {},
          "execution_count": 61
        }
      ]
    },
    {
      "cell_type": "code",
      "source": [
        "from sklearn.model_selection import train_test_split\n",
        "X_train, X_test, y_train, y_test = train_test_split(X_final, y_final, test_size = 0.33, random_state = 42)"
      ],
      "metadata": {
        "id": "pirXxw9HaFni"
      },
      "execution_count": null,
      "outputs": []
    },
    {
      "cell_type": "markdown",
      "source": [
        "###Model Training and results"
      ],
      "metadata": {
        "id": "54K3CjbBaqRv"
      }
    },
    {
      "cell_type": "code",
      "source": [
        "model.fit(X_train, y_train, \n",
        "          validation_data=(X_test, y_test),\n",
        "          epochs = 10,\n",
        "          batch_size = 64)"
      ],
      "metadata": {
        "colab": {
          "base_uri": "https://localhost:8080/"
        },
        "id": "-Fcv38dbao2y",
        "outputId": "eecad0fb-c30e-4688-c0c4-ed84b5273f06"
      },
      "execution_count": null,
      "outputs": [
        {
          "output_type": "stream",
          "name": "stdout",
          "text": [
            "Epoch 1/10\n",
            "192/192 [==============================] - 28s 129ms/step - loss: 0.2976 - accuracy: 0.8550 - val_loss: 0.2159 - val_accuracy: 0.9117\n",
            "Epoch 2/10\n",
            "192/192 [==============================] - 24s 126ms/step - loss: 0.1384 - accuracy: 0.9473 - val_loss: 0.2140 - val_accuracy: 0.9107\n",
            "Epoch 3/10\n",
            "192/192 [==============================] - 26s 136ms/step - loss: 0.0911 - accuracy: 0.9678 - val_loss: 0.2441 - val_accuracy: 0.9167\n",
            "Epoch 4/10\n",
            "192/192 [==============================] - 24s 125ms/step - loss: 0.0606 - accuracy: 0.9797 - val_loss: 0.3410 - val_accuracy: 0.9064\n",
            "Epoch 5/10\n",
            "192/192 [==============================] - 24s 125ms/step - loss: 0.0426 - accuracy: 0.9857 - val_loss: 0.3581 - val_accuracy: 0.8993\n",
            "Epoch 6/10\n",
            "192/192 [==============================] - 24s 127ms/step - loss: 0.0295 - accuracy: 0.9894 - val_loss: 0.4417 - val_accuracy: 0.9112\n",
            "Epoch 7/10\n",
            "192/192 [==============================] - 24s 125ms/step - loss: 0.0229 - accuracy: 0.9931 - val_loss: 0.2988 - val_accuracy: 0.8958\n",
            "Epoch 8/10\n",
            "192/192 [==============================] - 25s 128ms/step - loss: 0.0173 - accuracy: 0.9947 - val_loss: 0.4436 - val_accuracy: 0.9029\n",
            "Epoch 9/10\n",
            "192/192 [==============================] - 24s 127ms/step - loss: 0.0139 - accuracy: 0.9962 - val_loss: 0.4994 - val_accuracy: 0.9067\n",
            "Epoch 10/10\n",
            "192/192 [==============================] - 24s 126ms/step - loss: 0.0182 - accuracy: 0.9944 - val_loss: 0.4948 - val_accuracy: 0.9067\n"
          ]
        },
        {
          "output_type": "execute_result",
          "data": {
            "text/plain": [
              "<keras.callbacks.History at 0x7f7c9151fe80>"
            ]
          },
          "metadata": {},
          "execution_count": 63
        }
      ]
    },
    {
      "cell_type": "code",
      "source": [
        "y_pred = model.predict(X_test)"
      ],
      "metadata": {
        "colab": {
          "base_uri": "https://localhost:8080/"
        },
        "id": "xZMiY4-DbDz3",
        "outputId": "b24221c9-daf9-4c22-c4ce-a0849c834cdc"
      },
      "execution_count": null,
      "outputs": [
        {
          "output_type": "stream",
          "name": "stdout",
          "text": [
            "189/189 [==============================] - 5s 24ms/step\n"
          ]
        }
      ]
    },
    {
      "cell_type": "code",
      "source": [
        "type(y_pred)"
      ],
      "metadata": {
        "colab": {
          "base_uri": "https://localhost:8080/"
        },
        "id": "NMPIxutae7Hn",
        "outputId": "0685f482-855a-4d27-e801-f098e1d5a25b"
      },
      "execution_count": null,
      "outputs": [
        {
          "output_type": "execute_result",
          "data": {
            "text/plain": [
              "numpy.ndarray"
            ]
          },
          "metadata": {},
          "execution_count": 77
        }
      ]
    },
    {
      "cell_type": "code",
      "source": [
        "y_pred[0:10]"
      ],
      "metadata": {
        "colab": {
          "base_uri": "https://localhost:8080/"
        },
        "id": "Lt9E4vJfc2tK",
        "outputId": "c2e35f84-816d-415c-f639-f13e3dc1ca3f"
      },
      "execution_count": null,
      "outputs": [
        {
          "output_type": "execute_result",
          "data": {
            "text/plain": [
              "array([[0.9998592 ],\n",
              "       [0.00873934],\n",
              "       [0.00530735],\n",
              "       [0.40669176],\n",
              "       [0.9998803 ],\n",
              "       [0.99989295],\n",
              "       [0.999586  ],\n",
              "       [0.999899  ],\n",
              "       [0.99986416],\n",
              "       [0.99979067]], dtype=float32)"
            ]
          },
          "metadata": {},
          "execution_count": 76
        }
      ]
    },
    {
      "cell_type": "code",
      "source": [
        "np.rint(y_pred)"
      ],
      "metadata": {
        "colab": {
          "base_uri": "https://localhost:8080/"
        },
        "id": "esjGqqSVdoHU",
        "outputId": "ead61621-1b1f-46ec-cb88-439e196a4c41"
      },
      "execution_count": null,
      "outputs": [
        {
          "output_type": "execute_result",
          "data": {
            "text/plain": [
              "array([[1.],\n",
              "       [0.],\n",
              "       [0.],\n",
              "       ...,\n",
              "       [0.],\n",
              "       [1.],\n",
              "       [0.]], dtype=float32)"
            ]
          },
          "metadata": {},
          "execution_count": 79
        }
      ]
    },
    {
      "cell_type": "code",
      "source": [
        "from sklearn.metrics import accuracy_score\n",
        "accuracy_score(y_test, np.rint(y_pred))"
      ],
      "metadata": {
        "colab": {
          "base_uri": "https://localhost:8080/"
        },
        "id": "Is1Fn3mTc7s4",
        "outputId": "f2f2c072-7133-4fe8-dc95-f7c15ae4e547"
      },
      "execution_count": null,
      "outputs": [
        {
          "output_type": "execute_result",
          "data": {
            "text/plain": [
              "0.9067108533554267"
            ]
          },
          "metadata": {},
          "execution_count": 81
        }
      ]
    },
    {
      "cell_type": "code",
      "source": [
        "from sklearn.metrics import confusion_matrix"
      ],
      "metadata": {
        "id": "1IyKr_5TchEQ"
      },
      "execution_count": null,
      "outputs": []
    },
    {
      "cell_type": "code",
      "source": [
        "cf = confusion_matrix(y_test, np.rint(y_pred))\n",
        "cf"
      ],
      "metadata": {
        "colab": {
          "base_uri": "https://localhost:8080/"
        },
        "id": "EjW8GmgQcsk3",
        "outputId": "bfe8d9d6-7d6c-44c2-a0ec-d661421621df"
      },
      "execution_count": null,
      "outputs": [
        {
          "output_type": "execute_result",
          "data": {
            "text/plain": [
              "array([[3092,  327],\n",
              "       [ 236, 2380]])"
            ]
          },
          "metadata": {},
          "execution_count": 80
        }
      ]
    },
    {
      "cell_type": "markdown",
      "source": [
        "### TF- IDF with naive bayes algorithm"
      ],
      "metadata": {
        "id": "7vqJYdAADj5k"
      }
    },
    {
      "cell_type": "code",
      "source": [
        "corpus[0]"
      ],
      "metadata": {
        "id": "rVsYIP1gcyP6",
        "colab": {
          "base_uri": "https://localhost:8080/",
          "height": 35
        },
        "outputId": "335eccc8-bc2a-44c3-bd06-860ffa31bb14"
      },
      "execution_count": null,
      "outputs": [
        {
          "output_type": "execute_result",
          "data": {
            "text/plain": [
              "'house dem aide even see comey letter jason chaffetz tweeted'"
            ],
            "application/vnd.google.colaboratory.intrinsic+json": {
              "type": "string"
            }
          },
          "metadata": {},
          "execution_count": 26
        }
      ]
    },
    {
      "cell_type": "code",
      "source": [
        "from sklearn.feature_extraction.text import TfidfVectorizer\n",
        "\n",
        "tfidf = TfidfVectorizer(max_features= 5000, ngram_range= (1,3)  )\n",
        "X_tf = tfidf.fit_transform(corpus).toarray()"
      ],
      "metadata": {
        "id": "akHsGaWoDiK5"
      },
      "execution_count": null,
      "outputs": []
    },
    {
      "cell_type": "code",
      "source": [
        "X_tf.shape"
      ],
      "metadata": {
        "colab": {
          "base_uri": "https://localhost:8080/"
        },
        "id": "P1FKkL4eGSdy",
        "outputId": "eff0bf5c-d97f-432b-ca0d-5e698dacae72"
      },
      "execution_count": null,
      "outputs": [
        {
          "output_type": "execute_result",
          "data": {
            "text/plain": [
              "(18285, 5000)"
            ]
          },
          "metadata": {},
          "execution_count": 31
        }
      ]
    },
    {
      "cell_type": "code",
      "source": [
        "y.shape"
      ],
      "metadata": {
        "colab": {
          "base_uri": "https://localhost:8080/"
        },
        "id": "-An5vdK0GUER",
        "outputId": "d4bd2427-5baa-4e41-f185-f3f8ff884570"
      },
      "execution_count": null,
      "outputs": [
        {
          "output_type": "execute_result",
          "data": {
            "text/plain": [
              "(18285,)"
            ]
          },
          "metadata": {},
          "execution_count": 33
        }
      ]
    },
    {
      "cell_type": "code",
      "source": [
        "type(X_tf), type(y)"
      ],
      "metadata": {
        "colab": {
          "base_uri": "https://localhost:8080/"
        },
        "id": "bjMTcLprG5GG",
        "outputId": "b422b1c7-5e71-4add-a94b-7ad135e7e739"
      },
      "execution_count": null,
      "outputs": [
        {
          "output_type": "execute_result",
          "data": {
            "text/plain": [
              "(numpy.ndarray, pandas.core.series.Series)"
            ]
          },
          "metadata": {},
          "execution_count": 34
        }
      ]
    },
    {
      "cell_type": "code",
      "source": [
        "import numpy as np\n",
        "X_tf_final = np.array(X_tf)\n",
        "y_final = np.array(y)"
      ],
      "metadata": {
        "id": "Nvz_2eUOGgbA"
      },
      "execution_count": null,
      "outputs": []
    },
    {
      "cell_type": "code",
      "source": [
        "type(X_tf_final), type(y_final)"
      ],
      "metadata": {
        "colab": {
          "base_uri": "https://localhost:8080/"
        },
        "id": "9xvoMz3oHCW9",
        "outputId": "254f9188-a0da-43a8-8623-d441d722e5b2"
      },
      "execution_count": null,
      "outputs": [
        {
          "output_type": "execute_result",
          "data": {
            "text/plain": [
              "(numpy.ndarray, numpy.ndarray)"
            ]
          },
          "metadata": {},
          "execution_count": 37
        }
      ]
    },
    {
      "cell_type": "markdown",
      "source": [
        "### MultinomialNB Model clasifier  "
      ],
      "metadata": {
        "id": "u6BegdhmJ9Op"
      }
    },
    {
      "cell_type": "code",
      "source": [
        "from sklearn.model_selection import train_test_split\n",
        "X_train,X_test, y_train, y_test =  train_test_split(X_tf_final, y_final, test_size = 0.33, random_state = 40)"
      ],
      "metadata": {
        "id": "K0XTQbslHFRo"
      },
      "execution_count": null,
      "outputs": []
    },
    {
      "cell_type": "code",
      "source": [
        "from sklearn.naive_bayes import MultinomialNB\n",
        "mnb = MultinomialNB()"
      ],
      "metadata": {
        "id": "01giAvr2HKuC"
      },
      "execution_count": null,
      "outputs": []
    },
    {
      "cell_type": "code",
      "source": [
        "from sklearn.metrics import accuracy_score\n",
        "mnb.fit(X_train, y_train)\n",
        "y_pred = mnb.predict(X_test)\n",
        "accuracy_score(y_test, y_pred)\n"
      ],
      "metadata": {
        "colab": {
          "base_uri": "https://localhost:8080/"
        },
        "id": "zGtQy7y2HKrK",
        "outputId": "fe75f94e-01c2-47f4-d831-c7ba9fbe12d8"
      },
      "execution_count": null,
      "outputs": [
        {
          "output_type": "execute_result",
          "data": {
            "text/plain": [
              "0.8669428334714168"
            ]
          },
          "metadata": {},
          "execution_count": 41
        }
      ]
    },
    {
      "cell_type": "markdown",
      "source": [
        "Hyper Parameter tuning"
      ],
      "metadata": {
        "id": "NCl_T2EzKD-c"
      }
    },
    {
      "cell_type": "code",
      "source": [
        "classifier = MultinomialNB(alpha = 0.1)"
      ],
      "metadata": {
        "id": "CPe9wBbzJ4Jf"
      },
      "execution_count": null,
      "outputs": []
    },
    {
      "cell_type": "code",
      "source": [
        "accuracy_scores = []\n",
        "for alpha in np.arange(0,1,0.1):\n",
        "  sub_classifier = MultinomialNB(alpha = alpha)\n",
        "  sub_classifier.fit(X_train, y_train)\n",
        "  y_pred = sub_classifier.predict(X_test)\n",
        "  accuracy_scores.append(accuracy_score(y_test, y_pred))\n",
        "  print(alpha , accuracy_score(y_test, y_pred))"
      ],
      "metadata": {
        "colab": {
          "base_uri": "https://localhost:8080/"
        },
        "id": "dFuBPdMNKOE9",
        "outputId": "ea799d6d-7963-44a8-d42f-d7756661d447"
      },
      "execution_count": null,
      "outputs": [
        {
          "output_type": "stream",
          "name": "stderr",
          "text": [
            "/usr/local/lib/python3.8/dist-packages/sklearn/naive_bayes.py:555: UserWarning: alpha too small will result in numeric errors, setting alpha = 1.0e-10\n",
            "  warnings.warn(\n"
          ]
        },
        {
          "output_type": "stream",
          "name": "stdout",
          "text": [
            "0.0 0.851698425849213\n",
            "0.1 0.8661143330571666\n",
            "0.2 0.867937033968517\n",
            "0.30000000000000004 0.8687655343827672\n",
            "0.4 0.8695940347970174\n",
            "0.5 0.8689312344656173\n",
            "0.6000000000000001 0.868434134217067\n",
            "0.7000000000000001 0.867771333885667\n",
            "0.8 0.867937033968517\n",
            "0.9 0.867937033968517\n"
          ]
        }
      ]
    },
    {
      "cell_type": "markdown",
      "source": [
        "Using alpha 0.4  the accuracy is highest for MultinomialNB of 0.8695940347970174\n"
      ],
      "metadata": {
        "id": "SdVqzdNNLicD"
      }
    },
    {
      "cell_type": "code",
      "source": [
        "import matplotlib.pyplot as plt\n",
        "plt.plot(accuracy_scores)"
      ],
      "metadata": {
        "colab": {
          "base_uri": "https://localhost:8080/",
          "height": 282
        },
        "id": "24Ifi0b6LPoD",
        "outputId": "c47be4d0-19dd-42e5-e12d-dee666c297b2"
      },
      "execution_count": null,
      "outputs": [
        {
          "output_type": "execute_result",
          "data": {
            "text/plain": [
              "[<matplotlib.lines.Line2D at 0x7f0ecc835130>]"
            ]
          },
          "metadata": {},
          "execution_count": 45
        },
        {
          "output_type": "display_data",
          "data": {
            "text/plain": [
              "<Figure size 432x288 with 1 Axes>"
            ],
            "image/png": "[encoded data removed]"
          },
          "metadata": {
            "needs_background": "light"
          }
        }
      ]
    },
    {
      "cell_type": "code",
      "source": [
        "from sklearn.metrics import confusion_matrix\n",
        "cm = confusion_matrix(y_test, y_pred)"
      ],
      "metadata": {
        "id": "7DPuWWMCNy7y"
      },
      "execution_count": null,
      "outputs": []
    },
    {
      "cell_type": "code",
      "source": [
        "from sklearn.metrics import ConfusionMatrixDisplay\n",
        "ConfusionMatrixDisplay(cm).plot()"
      ],
      "metadata": {
        "colab": {
          "base_uri": "https://localhost:8080/",
          "height": 296
        },
        "id": "DDmrwyPUSj6N",
        "outputId": "c27576af-ecf8-4765-aeab-a174051a0d03"
      },
      "execution_count": null,
      "outputs": [
        {
          "output_type": "execute_result",
          "data": {
            "text/plain": [
              "<sklearn.metrics._plot.confusion_matrix.ConfusionMatrixDisplay at 0x7f0ec8e8e430>"
            ]
          },
          "metadata": {},
          "execution_count": 63
        },
        {
          "output_type": "display_data",
          "data": {
            "text/plain": [
              "<Figure size 432x288 with 2 Axes>"
            ],
            "image/png": "[encoded data removed]"
          },
          "metadata": {
            "needs_background": "light"
          }
        }
      ]
    },
    {
      "cell_type": "code",
      "source": [
        "cm"
      ],
      "metadata": {
        "colab": {
          "base_uri": "https://localhost:8080/"
        },
        "id": "o4h7ZTGOP1LI",
        "outputId": "f3ca866f-9958-4f2b-cda5-7a00d44655ba"
      },
      "execution_count": null,
      "outputs": [
        {
          "output_type": "execute_result",
          "data": {
            "text/plain": [
              "array([[3187,  207],\n",
              "       [ 590, 2051]])"
            ]
          },
          "metadata": {},
          "execution_count": 57
        }
      ]
    },
    {
      "cell_type": "code",
      "source": [
        "import seaborn as sns\n",
        "heat = sns.heatmap(cm , cmap ='crest', xticklabels=[\"Positive\",\"Negative\"], yticklabels = ['True', 'False'] ,annot = dec(cm)) "
      ],
      "metadata": {
        "id": "LeL7Wg65OOOo"
      },
      "execution_count": null,
      "outputs": []
    },
    {
      "cell_type": "code",
      "source": [],
      "metadata": {
        "id": "ZuycAkjoO0Is"
      },
      "execution_count": null,
      "outputs": []
    }
  ]
}